{
 "cells": [
  {
   "cell_type": "code",
   "execution_count": 2,
   "id": "5645712b",
   "metadata": {},
   "outputs": [],
   "source": [
    "from matplotlib import pyplot as plt\n",
    "import pandas as pd\n",
    "import numpy as np\n",
    "from sklearn.decomposition import PCA\n",
    "from sklearn.discriminant_analysis import LinearDiscriminantAnalysis\n",
    "from sklearn.manifold import TSNE\n",
    "import os\n",
    "import sys\n",
    "import matplotlib as mpl\n",
    "from bokeh.plotting import figure, output_file, ColumnDataSource,show\n",
    "from bokeh.layouts import row,layout\n",
    "from bokeh.layouts import column\n",
    "from bokeh.io import save\n",
    "from bokeh.layouts import gridplot\n",
    "from bokeh.models import  CustomJS,Div,DataTable,TableColumn,BooleanFilter,CDSView,CustomJSFilter,CheckboxGroup,ColorBar,Slider\n",
    "from bokeh.transform import factor_cmap, factor_mark, linear_cmap, transform\n",
    "import matplotlib as mpl\n",
    "import colorcet as cc"
   ]
  },
  {
   "cell_type": "code",
   "execution_count": 3,
   "id": "97f00c37",
   "metadata": {},
   "outputs": [],
   "source": [
    "# read data\n",
    "df_parkinson = pd.read_excel(\"./dis.xlsx\")\n",
    "# pca\n",
    "# pca = PCA(n_components=2)\n",
    "# x = pca.fit_transform(df_parkinson.iloc[:,:-2])\n",
    "tsne = TSNE(n_components=2)\n",
    "x_tsne = tsne.fit_transform(df_parkinson.iloc[:,:-2])"
   ]
  },
  {
   "cell_type": "code",
   "execution_count": 4,
   "id": "bf73b4c9",
   "metadata": {},
   "outputs": [
    {
     "data": {
      "text/plain": [
       "<matplotlib.collections.PathCollection at 0x7f915795e3a0>"
      ]
     },
     "execution_count": 4,
     "metadata": {},
     "output_type": "execute_result"
    },
    {
     "data": {
      "image/png": "[encoded data removed]",
      "text/plain": [
       "<Figure size 432x288 with 1 Axes>"
      ]
     },
     "metadata": {
      "needs_background": "light"
     },
     "output_type": "display_data"
    }
   ],
   "source": [
    "plt.scatter(x_tsne[:,0], x_tsne[:,1],c=np.asarray(df_parkinson['disagree']), cmap='RdBu')"
   ]
  },
  {
   "cell_type": "code",
   "execution_count": 5,
   "id": "6de9ca31",
   "metadata": {},
   "outputs": [],
   "source": [
    "cols = df_parkinson.columns[:5]\n",
    "X1 = df_parkinson.loc[:, cols]\n",
    "X1.columns = ['p'+str(i) for i in range(1,6)]\n",
    "cols = ['p'+str(i) for i in range(1,6)]\n",
    "X1[\"x\"] = x_tsne[:,0]\n",
    "X1['y'] = x_tsne[:,1]\n",
    "X1['disagreement'] = np.asarray(df_parkinson['disagree'], dtype='uint32')\n",
    "source = ColumnDataSource(X1.to_dict(orient='list'))"
   ]
  },
  {
   "cell_type": "code",
   "execution_count": 6,
   "id": "4799781c",
   "metadata": {},
   "outputs": [
    {
     "data": {
      "text/plain": [
       "['p1', 'p2', 'p3', 'p4', 'p5', 'x', 'y', 'disagreement']"
      ]
     },
     "execution_count": 6,
     "metadata": {},
     "output_type": "execute_result"
    }
   ],
   "source": [
    "source.column_names"
   ]
  },
  {
   "cell_type": "code",
   "execution_count": 7,
   "id": "6bab4ffc",
   "metadata": {},
   "outputs": [],
   "source": [
    "def add_lasso_event(data_source, source2fill):\n",
    "    data_source.selected.js_on_change(\n",
    "        'indices', \n",
    "        CustomJS(args=dict(s1=data_source, s2=source2fill), \n",
    "            code=\"\"\"\n",
    "                    var inds = cb_obj.indices;\n",
    "\n",
    "                    var d1 = s1.data;\n",
    "                    var d2 = s2.data;\n",
    "\n",
    "                    d2['p1'] = [];\n",
    "                    d2['p2'] = [];\n",
    "                    d2['p3'] = [];\n",
    "                    d2['p4'] = [];\n",
    "                    d2['p5'] = [];                \n",
    "\n",
    "                    for (var i = 0; i < inds.length; i++) {\n",
    "\n",
    "                        var index = inds[i];\n",
    "                        d2['p1'].push(d1['p1'][index]);\n",
    "                        d2['p2'].push(d1['p2'][index]);\n",
    "                        d2['p3'].push(d1['p3'][index]);\n",
    "                        d2['p4'].push(d1['p4'][index]);\n",
    "                        d2['p5'].push(d1['p5'][index]);       \n",
    "                    }\n",
    "                    s2.change.emit();\n",
    "                \"\"\")\n",
    "    )"
   ]
  },
  {
   "cell_type": "code",
   "execution_count": 8,
   "id": "f45eaa8d",
   "metadata": {},
   "outputs": [],
   "source": [
    "TOOLS='hover,crosshair,pan,wheel_zoom,zoom_in,zoom_out,box_zoom,reset,tap,save,box_select,poly_select,lasso_select'\n",
    "tooltips = [('{}'.format(k), '@{}'.format(k)) for k in cols]\n",
    "\n",
    "p = figure(tools=TOOLS, title='learn2use', \n",
    "           plot_height=600, plot_width=600)\n",
    "\n",
    "p.hover.tooltips = tooltips\n",
    "\n",
    "cm = linear_cmap(field_name='disagreement', palette=cc.cwr ,low=min(X1['disagreement']),\n",
    "            high=max(X1['disagreement']))\n",
    "cb = ColorBar(color_mapper = cm['transform'], location = (0,0))\n",
    "\n",
    "# 挂圈选事件\n",
    "source_fill = ColumnDataSource(data=dict( [ (k, ['']*200) for k in cols] ) ) # empty\n",
    "add_lasso_event(source, source_fill)\n",
    "\n",
    "p.circle('x', 'y'\n",
    "              , fill_color=cm\n",
    "              , size=10\n",
    "              , source=source)\n",
    "\n",
    "p.add_layout(cb, 'right')\n",
    "# p.legend.label_text_font_size = '8pt'"
   ]
  },
  {
   "cell_type": "code",
   "execution_count": 9,
   "id": "79e21149",
   "metadata": {},
   "outputs": [
    {
     "data": {
      "text/plain": [
       "'/Users/kadima/experiment_any/anomaly-detection/parkinson.html'"
      ]
     },
     "execution_count": 9,
     "metadata": {},
     "output_type": "execute_result"
    }
   ],
   "source": [
    "layout_list = [[p]]\n",
    "table_columns = [TableColumn(field=i, title=i) for i in cols]\n",
    "data_table1 = DataTable(source=source_fill, \n",
    "                        columns=table_columns, \n",
    "                        width=1200, height=200)\n",
    "layout_list.append([data_table1])\n",
    "my_layout=layout(layout_list)\n",
    "\n",
    "outf = 'parkinson.html'\n",
    "output_file(outf, title='parkinson_test')\n",
    "save(obj=my_layout)"
   ]
  },
  {
   "cell_type": "code",
   "execution_count": null,
   "id": "28a4761c",
   "metadata": {},
   "outputs": [],
   "source": []
  }
 ],
 "metadata": {
  "kernelspec": {
   "display_name": "Python 3 (ipykernel)",
   "language": "python",
   "name": "python3"
  },
  "language_info": {
   "codemirror_mode": {
    "name": "ipython",
    "version": 3
   },
   "file_extension": ".py",
   "mimetype": "text/x-python",
   "name": "python",
   "nbconvert_exporter": "python",
   "pygments_lexer": "ipython3",
   "version": "3.9.6"
  }
 },
 "nbformat": 4,
 "nbformat_minor": 5
}
