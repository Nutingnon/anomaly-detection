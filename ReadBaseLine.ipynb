{
 "cells": [
  {
   "cell_type": "code",
   "execution_count": 1,
   "id": "05a623a4",
   "metadata": {},
   "outputs": [],
   "source": [
    "import pandas as pd\n",
    "import numpy as np\n",
    "import sys\n",
    "import os"
   ]
  },
  {
   "cell_type": "code",
   "execution_count": 29,
   "id": "5ac46f1a",
   "metadata": {},
   "outputs": [],
   "source": [
    "def read_score_data(fpath, fname, lof_range = np.arange(11)):\n",
    "    if fname.endswith(\"LOF_score_matrix.txt\"):\n",
    "        with open(fpath + fname, 'r') as f:\n",
    "            data = f.readlines()\n",
    "            tmp = []\n",
    "            for i in data:\n",
    "                tmp.append(i.split())\n",
    "            df = [[float(i)for i in x] for x in tmp]\n",
    "            df = pd.DataFrame(df)\n",
    "            score_df = df.iloc[lof_range, :]\n",
    "        return -score_df.to_numpy()\n",
    "    elif fname.endswith(\"LOF_score_matrix_12detectors.txt\"):\n",
    "        with open(fpath + fname, 'r') as f:\n",
    "            data = f.readlines()\n",
    "            tmp = []\n",
    "            for i in data:\n",
    "                tmp.append(i.split())\n",
    "            df = [[float(i)for i in x] for x in tmp]\n",
    "            score_df = pd.DataFrame(df)\n",
    "        return -df.to_numpy()\n",
    "    elif fname.endswith(\"LOF_score_matrix_featurebagging.txt\"):\n",
    "        with open(fpath + fname, 'r') as f:\n",
    "            data = f.readlines()\n",
    "            tmp = []\n",
    "            for i in data:\n",
    "                tmp.append(i.split())\n",
    "            df = [[float(i)for i in x] for x in tmp]\n",
    "            score_df = pd.DataFrame(df)\n",
    "        return -df.to_numpy()"
   ]
  },
  {
   "cell_type": "code",
   "execution_count": 30,
   "id": "f44952a3",
   "metadata": {},
   "outputs": [
    {
     "data": {
      "text/plain": [
       "array([[1.08397744, 1.20974926, 1.20385931, ..., 1.42934954, 1.12980173,\n",
       "        1.04643807],\n",
       "       [1.0770867 , 1.19930727, 1.20493087, ..., 1.4237777 , 1.12915547,\n",
       "        1.04263501],\n",
       "       [1.06784502, 1.22555675, 1.21889294, ..., 1.40654608, 1.13492959,\n",
       "        1.05209665],\n",
       "       ...,\n",
       "       [1.0392125 , 1.25605131, 1.22474367, ..., 1.35713984, 1.23030984,\n",
       "        1.07468273],\n",
       "       [1.03533428, 1.24133275, 1.22994674, ..., 1.36090733, 1.2300001 ,\n",
       "        1.06819877],\n",
       "       [1.04057879, 1.24286662, 1.23198382, ..., 1.35982999, 1.22636658,\n",
       "        1.06824448]])"
      ]
     },
     "execution_count": 30,
     "metadata": {},
     "output_type": "execute_result"
    }
   ],
   "source": [
    "read_score_data(\"./scoresForEnsemble/\",\"Parkinson_withoutdupl_75_LOF_score_matrix.txt\")"
   ]
  },
  {
   "cell_type": "code",
   "execution_count": 2,
   "id": "6ddefae0",
   "metadata": {},
   "outputs": [],
   "source": [
    "with open(\"./scoresForEnsemble/Parkinson_withoutdupl_75_LOF_score_matrix.txt\",'r') as f:\n",
    "    data = f.readlines()"
   ]
  },
  {
   "cell_type": "code",
   "execution_count": 25,
   "id": "10e1d43e",
   "metadata": {
    "scrolled": true
   },
   "outputs": [
    {
     "data": {
      "text/plain": [
       "['.DS_Store',\n",
       " 'ALOI_withoutdupl_data.txt',\n",
       " 'ALOI_withoutdupl_label.txt',\n",
       " 'Annthyroid_withoutdupl_07_data.txt',\n",
       " 'Annthyroid_withoutdupl_07_label.txt',\n",
       " 'Arrhythmia_withoutdupl_46_data.txt',\n",
       " 'Arrhythmia_withoutdupl_46_label.txt',\n",
       " 'Cardiotocography_withoutdupl_22_data.txt',\n",
       " 'Cardiotocography_withoutdupl_22_label.txt',\n",
       " 'Glass_withoutdupl_norm_data.txt',\n",
       " 'Glass_withoutdupl_norm_label.txt',\n",
       " 'HeartDisease_withoutdupl_44_data.txt',\n",
       " 'HeartDisease_withoutdupl_44_label.txt',\n",
       " 'Hepatitis_withoutdupl_16_data.txt',\n",
       " 'Hepatitis_withoutdupl_16_label.txt',\n",
       " 'InternetAds_withoutdupl_norm_19_data.txt',\n",
       " 'InternetAds_withoutdupl_norm_19_label.txt',\n",
       " 'Ionosphere_withoutdupl_norm_data.txt',\n",
       " 'Ionosphere_withoutdupl_norm_label.txt',\n",
       " 'KDDCup99_withoutdupl_catremoved_data.txt',\n",
       " 'KDDCup99_withoutdupl_catremoved_label.txt',\n",
       " 'Lymphography_withoutdupl_catremoved_data.txt',\n",
       " 'Lymphography_withoutdupl_catremoved_label.txt',\n",
       " 'PageBlocks_withoutdupl_09_data.txt',\n",
       " 'PageBlocks_withoutdupl_09_label.txt',\n",
       " 'Parkinson_withoutdupl_75_data.txt',\n",
       " 'Parkinson_withoutdupl_75_label.txt',\n",
       " 'PenDigits_withoutdupl_norm_v01_data.txt',\n",
       " 'PenDigits_withoutdupl_norm_v01_label.txt',\n",
       " 'Pima_withoutdupl_35_data.txt',\n",
       " 'Pima_withoutdupl_35_label.txt',\n",
       " 'Shuttle_withoutdupl_v01_data.txt',\n",
       " 'Shuttle_withoutdupl_v01_label.txt',\n",
       " 'SpamBase_withoutdupl_40_data.txt',\n",
       " 'SpamBase_withoutdupl_40_label.txt',\n",
       " 'Stamps_withoutdupl_09_data.txt',\n",
       " 'Stamps_withoutdupl_09_label.txt',\n",
       " 'WBC_v01_data.txt',\n",
       " 'WBC_v01_label.txt',\n",
       " 'WDBC_withoutdupl_v01_data.txt',\n",
       " 'WDBC_withoutdupl_v01_label.txt',\n",
       " 'WPBC_withoutdupl_norm_data.txt',\n",
       " 'WPBC_withoutdupl_norm_label.txt',\n",
       " 'Waveform_withoutdupl_v01_data.txt',\n",
       " 'Waveform_withoutdupl_v01_label.txt',\n",
       " 'Wilt_withoutdupl_05_data.txt',\n",
       " 'Wilt_withoutdupl_05_label.txt',\n",
       " 'breastw_data.txt',\n",
       " 'breastw_label.txt',\n",
       " 'cover_data.txt',\n",
       " 'cover_label.txt',\n",
       " 'letter_data.txt',\n",
       " 'letter_label.txt',\n",
       " 'mammography_data.txt',\n",
       " 'mammography_label.txt',\n",
       " 'mnist_data.txt',\n",
       " 'mnist_label.txt',\n",
       " 'musk_data.txt',\n",
       " 'musk_label.txt',\n",
       " 'optdigits_data.txt',\n",
       " 'optdigits_label.txt',\n",
       " 'satellite_data.txt',\n",
       " 'satellite_label.txt',\n",
       " 'satimage-2_data.txt',\n",
       " 'satimage-2_label.txt',\n",
       " 'speech_data.txt',\n",
       " 'speech_label.txt',\n",
       " 'thyroid_data.txt',\n",
       " 'thyroid_label.txt',\n",
       " 'vertebral_data.txt',\n",
       " 'vertebral_label.txt',\n",
       " 'vowels_data.txt',\n",
       " 'vowels_label.txt',\n",
       " 'wine_data.txt',\n",
       " 'wine_label.txt']"
      ]
     },
     "execution_count": 25,
     "metadata": {},
     "output_type": "execute_result"
    }
   ],
   "source": [
    "sorted(os.listdir(\"./datasets_resend/\"))"
   ]
  },
  {
   "cell_type": "code",
   "execution_count": 24,
   "id": "3714b45e",
   "metadata": {
    "scrolled": true
   },
   "outputs": [
    {
     "data": {
      "text/plain": [
       "['.DS_Store',\n",
       " 'Annthyroid_withoutdupl_07_LOF_score_matrix.txt',\n",
       " 'Annthyroid_withoutdupl_07_LOF_score_matrix_12detectors.txt',\n",
       " 'Annthyroid_withoutdupl_07_LOF_score_matrix_featurebagging.txt',\n",
       " 'Arrhythmia_withoutdupl_46_LOF_score_matrix.txt',\n",
       " 'Arrhythmia_withoutdupl_46_LOF_score_matrix_12detectors.txt',\n",
       " 'Arrhythmia_withoutdupl_46_LOF_score_matrix_featurebagging.txt',\n",
       " 'Cardiotocography_withoutdupl_22_LOF_score_matrix.txt',\n",
       " 'Cardiotocography_withoutdupl_22_LOF_score_matrix_12detectors.txt',\n",
       " 'Cardiotocography_withoutdupl_22_LOF_score_matrix_featurebagging.txt',\n",
       " 'Glass_withoutdupl_norm_LOF_score_matrix.txt',\n",
       " 'Glass_withoutdupl_norm_LOF_score_matrix_12detectors.txt',\n",
       " 'Glass_withoutdupl_norm_LOF_score_matrix_featurebagging.txt',\n",
       " 'HeartDisease_withoutdupl_44_LOF_score_matrix.txt',\n",
       " 'HeartDisease_withoutdupl_44_LOF_score_matrix_12detectors.txt',\n",
       " 'HeartDisease_withoutdupl_44_LOF_score_matrix_featurebagging.txt',\n",
       " 'Ionosphere_withoutdupl_norm_LOF_score_matrix.txt',\n",
       " 'Ionosphere_withoutdupl_norm_LOF_score_matrix_12detectors.txt',\n",
       " 'Ionosphere_withoutdupl_norm_LOF_score_matrix_featurebagging.txt',\n",
       " 'Lymphography_withoutdupl_catremoved_LOF_score_matrix.txt',\n",
       " 'Lymphography_withoutdupl_catremoved_LOF_score_matrix_12detectors.txt',\n",
       " 'Lymphography_withoutdupl_catremoved_LOF_score_matrix_featurebagging.txt',\n",
       " 'PageBlocks_withoutdupl_09_LOF_score_matrix.txt',\n",
       " 'PageBlocks_withoutdupl_09_LOF_score_matrix_12detectors.txt',\n",
       " 'PageBlocks_withoutdupl_09_LOF_score_matrix_featurebagging.txt',\n",
       " 'Parkinson_withoutdupl_75_LOF_score_matrix.txt',\n",
       " 'Parkinson_withoutdupl_75_LOF_score_matrix_12detectors.txt',\n",
       " 'Parkinson_withoutdupl_75_LOF_score_matrix_featurebagging.txt',\n",
       " 'PenDigits_withoutdupl_norm_v01_LOF_score_matrix.txt',\n",
       " 'PenDigits_withoutdupl_norm_v01_LOF_score_matrix_12detectors.txt',\n",
       " 'PenDigits_withoutdupl_norm_v01_LOF_score_matrix_featurebagging.txt',\n",
       " 'Pima_withoutdupl_35_LOF_score_matrix.txt',\n",
       " 'Pima_withoutdupl_35_LOF_score_matrix_12detectors.txt',\n",
       " 'Pima_withoutdupl_35_LOF_score_matrix_featurebagging.txt',\n",
       " 'Shuttle_withoutdupl_v01_LOF_score_matrix.txt',\n",
       " 'Shuttle_withoutdupl_v01_LOF_score_matrix_12detectors.txt',\n",
       " 'Shuttle_withoutdupl_v01_LOF_score_matrix_featurebagging.txt',\n",
       " 'SpamBase_withoutdupl_40_LOF_score_matrix.txt',\n",
       " 'SpamBase_withoutdupl_40_LOF_score_matrix_12detectors.txt',\n",
       " 'SpamBase_withoutdupl_40_LOF_score_matrix_featurebagging.txt',\n",
       " 'Stamps_withoutdupl_09_LOF_score_matrix.txt',\n",
       " 'Stamps_withoutdupl_09_LOF_score_matrix_12detectors.txt',\n",
       " 'Stamps_withoutdupl_09_LOF_score_matrix_featurebagging.txt',\n",
       " 'WBC_v01_LOF_score_matrix.txt',\n",
       " 'WBC_v01_LOF_score_matrix_12detectors.txt',\n",
       " 'WBC_v01_LOF_score_matrix_featurebagging.txt',\n",
       " 'WDBC_withoutdupl_v01_LOF_score_matrix.txt',\n",
       " 'WDBC_withoutdupl_v01_LOF_score_matrix_12detectors.txt',\n",
       " 'WDBC_withoutdupl_v01_LOF_score_matrix_featurebagging.txt',\n",
       " 'WPBC_withoutdupl_norm_LOF_score_matrix.txt',\n",
       " 'WPBC_withoutdupl_norm_LOF_score_matrix_12detectors.txt',\n",
       " 'WPBC_withoutdupl_norm_LOF_score_matrix_featurebagging.txt',\n",
       " 'Waveform_withoutdupl_v01_LOF_score_matrix.txt',\n",
       " 'Waveform_withoutdupl_v01_LOF_score_matrix_12detectors.txt',\n",
       " 'Waveform_withoutdupl_v01_LOF_score_matrix_featurebagging.txt',\n",
       " 'Wilt_withoutdupl_05_LOF_score_matrix.txt',\n",
       " 'Wilt_withoutdupl_05_LOF_score_matrix_12detectors.txt',\n",
       " 'Wilt_withoutdupl_05_LOF_score_matrix_featurebagging.txt',\n",
       " 'breastw_LOF_score_matrix.txt',\n",
       " 'breastw_LOF_score_matrix_12detectors.txt',\n",
       " 'breastw_LOF_score_matrix_featurebagging.txt',\n",
       " 'letter_LOF_score_matrix.txt',\n",
       " 'letter_LOF_score_matrix_12detectors.txt',\n",
       " 'letter_LOF_score_matrix_featurebagging.txt',\n",
       " 'mnist_LOF_score_matrix.txt',\n",
       " 'mnist_LOF_score_matrix_12detectors.txt',\n",
       " 'mnist_LOF_score_matrix_featurebagging.txt',\n",
       " 'musk_LOF_score_matrix.txt',\n",
       " 'musk_LOF_score_matrix_12detectors.txt',\n",
       " 'musk_LOF_score_matrix_featurebagging.txt',\n",
       " 'no use',\n",
       " 'optdigits_LOF_score_matrix.txt',\n",
       " 'optdigits_LOF_score_matrix_12detectors.txt',\n",
       " 'optdigits_LOF_score_matrix_featurebagging.txt',\n",
       " 'satellite_LOF_score_matrix.txt',\n",
       " 'satellite_LOF_score_matrix_12detectors.txt',\n",
       " 'satellite_LOF_score_matrix_featurebagging.txt',\n",
       " 'satimage-2_LOF_score_matrix.txt',\n",
       " 'satimage-2_LOF_score_matrix_12detectors.txt',\n",
       " 'satimage-2_LOF_score_matrix_featurebagging.txt',\n",
       " 'thyroid_LOF_score_matrix.txt',\n",
       " 'thyroid_LOF_score_matrix_12detectors.txt',\n",
       " 'thyroid_LOF_score_matrix_featurebagging.txt',\n",
       " 'vertebral_LOF_score_matrix.txt',\n",
       " 'vertebral_LOF_score_matrix_12detectors.txt',\n",
       " 'vertebral_LOF_score_matrix_featurebagging.txt',\n",
       " 'vowels_LOF_score_matrix.txt',\n",
       " 'vowels_LOF_score_matrix_12detectors.txt',\n",
       " 'vowels_LOF_score_matrix_featurebagging.txt',\n",
       " 'wine_LOF_score_matrix.txt',\n",
       " 'wine_LOF_score_matrix_12detectors.txt',\n",
       " 'wine_LOF_score_matrix_featurebagging.txt']"
      ]
     },
     "execution_count": 24,
     "metadata": {},
     "output_type": "execute_result"
    }
   ],
   "source": [
    "sorted(os.listdir(\"./scoresForEnsemble\"))"
   ]
  },
  {
   "cell_type": "code",
   "execution_count": null,
   "id": "f4f04d5e",
   "metadata": {},
   "outputs": [],
   "source": []
  }
 ],
 "metadata": {
  "kernelspec": {
   "display_name": "Python 3 (ipykernel)",
   "language": "python",
   "name": "python3"
  },
  "language_info": {
   "codemirror_mode": {
    "name": "ipython",
    "version": 3
   },
   "file_extension": ".py",
   "mimetype": "text/x-python",
   "name": "python",
   "nbconvert_exporter": "python",
   "pygments_lexer": "ipython3",
   "version": "3.8.12"
  }
 },
 "nbformat": 4,
 "nbformat_minor": 5
}
