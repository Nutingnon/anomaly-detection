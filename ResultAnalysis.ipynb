{
 "cells": [
  {
   "cell_type": "code",
   "execution_count": 2,
   "id": "2b319584",
   "metadata": {},
   "outputs": [],
   "source": [
    "import numpy as np\n",
    "import pandas as pd\n",
    "import os\n",
    "import sys"
   ]
  },
  {
   "cell_type": "code",
   "execution_count": 3,
   "id": "460623a6",
   "metadata": {},
   "outputs": [],
   "source": [
    "res_folder = \"./disagreement_matrix/engineering_version/auc_results/\""
   ]
  },
  {
   "cell_type": "code",
   "execution_count": 12,
   "id": "485d21a4",
   "metadata": {},
   "outputs": [],
   "source": [
    "auc_results = dict()\n",
    "for root, path, files in os.walk(res_folder):\n",
    "    for file in files:\n",
    "        if file.endswith(\"xlsx\"):\n",
    "            auc_results[file[:-5]] = pd.read_excel(root+file, index_col=0)"
   ]
  },
  {
   "cell_type": "code",
   "execution_count": 36,
   "id": "6a5b1fa7",
   "metadata": {},
   "outputs": [],
   "source": [
    "# key as comb, value is fname\n",
    "surpass_record = dict()\n",
    "\n",
    "for fname in auc_results.keys():\n",
    "    df_ = auc_results[fname]\n",
    "    best_base_auc = df_.auc[df_.combination==\"best_base_auc\"].values[0]\n",
    "    good_records = df_.combination[df_.auc>best_base_auc]\n",
    "    if len(good_records)>0:\n",
    "        for m in good_records.values:\n",
    "            if m in surpass_record.keys():\n",
    "                surpass_record[m].add(fname)\n",
    "            else:\n",
    "                surpass_record[m] = set([fname])"
   ]
  },
  {
   "cell_type": "code",
   "execution_count": 39,
   "id": "fb420681",
   "metadata": {
    "scrolled": false
   },
   "outputs": [],
   "source": [
    "res_list = []\n",
    "for key, value in surpass_record.items():\n",
    "    res_list.append((key, len(value)))"
   ]
  },
  {
   "cell_type": "markdown",
   "id": "3c59949c",
   "metadata": {},
   "source": [
    "        base_best (auc) |   merge_best\n",
    "file1\n",
    "file2"
   ]
  },
  {
   "cell_type": "code",
   "execution_count": 46,
   "id": "98c11e03",
   "metadata": {},
   "outputs": [],
   "source": [
    "all_files_record = {\"best_base_auc\":[], \"ensemble_best_auc\":[]}\n",
    "fnames = []\n",
    "for fname in auc_results.keys():\n",
    "    df_ = auc_results[fname]\n",
    "    best_base_auc = df_.auc[df_.combination==\"best_base_auc\"].values[0]\n",
    "    merge_best = np.max(df_.auc[df_.combination!=\"best_base_auc\"].values)\n",
    "    all_files_record['best_base_auc'].append(best_base_auc)\n",
    "    all_files_record['ensemble_best_auc'].append(merge_best)\n",
    "    fnames.append(fname)\n",
    "    \n",
    "all_files_record['DataSets'] = fnames"
   ]
  },
  {
   "cell_type": "code",
   "execution_count": 48,
   "id": "8eec16ad",
   "metadata": {},
   "outputs": [],
   "source": [
    "df_res = pd.DataFrame.from_dict(all_files_record)"
   ]
  },
  {
   "cell_type": "code",
   "execution_count": 57,
   "id": "253ba5e2",
   "metadata": {
    "scrolled": false
   },
   "outputs": [],
   "source": [
    "pd.DataFrame(sorted(res_list,key=lambda x: \n",
    "                    x[1],reverse=True),columns=['ensemble_methods',\n",
    "                    'num_surpass']).to_excel(\"./LOF_base_detectors_ensemble.xlsx\")"
   ]
  },
  {
   "cell_type": "code",
   "execution_count": 50,
   "id": "63b37691",
   "metadata": {},
   "outputs": [],
   "source": [
    "df_res['best_base_auc'] = np.round(df_res['best_base_auc'],3)\n",
    "df_res['ensemble_best_auc'] = np.round(df_res['ensemble_best_auc'],3)"
   ]
  },
  {
   "cell_type": "code",
   "execution_count": 52,
   "id": "eee21a40",
   "metadata": {},
   "outputs": [],
   "source": [
    "df_res['diff'] = df_res['ensemble_best_auc'] - df_res['best_base_auc']"
   ]
  },
  {
   "cell_type": "code",
   "execution_count": 58,
   "id": "ef3589f3",
   "metadata": {
    "scrolled": true
   },
   "outputs": [],
   "source": [
    "q = df_res.loc[:,['ensemble_best_auc','best_base_auc','diff','DataSets']]"
   ]
  },
  {
   "cell_type": "code",
   "execution_count": 60,
   "id": "7782e3d5",
   "metadata": {},
   "outputs": [],
   "source": [
    "q.to_excel(\"./LOF_base_overall_perform.xlsx\")"
   ]
  },
  {
   "cell_type": "code",
   "execution_count": null,
   "id": "b501edf4",
   "metadata": {},
   "outputs": [],
   "source": []
  }
 ],
 "metadata": {
  "kernelspec": {
   "display_name": "Python 3 (ipykernel)",
   "language": "python",
   "name": "python3"
  },
  "language_info": {
   "codemirror_mode": {
    "name": "ipython",
    "version": 3
   },
   "file_extension": ".py",
   "mimetype": "text/x-python",
   "name": "python",
   "nbconvert_exporter": "python",
   "pygments_lexer": "ipython3",
   "version": "3.8.12"
  }
 },
 "nbformat": 4,
 "nbformat_minor": 5
}
