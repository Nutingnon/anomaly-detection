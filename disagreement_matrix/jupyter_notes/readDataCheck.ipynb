{
 "cells": [
  {
   "cell_type": "code",
   "execution_count": 5,
   "id": "0dfac489",
   "metadata": {},
   "outputs": [],
   "source": [
    "import os\n",
    "import sys\n",
    "import pandas as pd\n",
    "import numpy as np"
   ]
  },
  {
   "cell_type": "code",
   "execution_count": 16,
   "id": "e8257e23",
   "metadata": {},
   "outputs": [],
   "source": [
    "training_dict = dict()\n",
    "label_dict = dict()\n",
    "\n",
    "for root, path, files in os.walk(\"../datasets_resend/\"):\n",
    "    for file in files:\n",
    "        if file.endswith(\"txt\"):\n",
    "            if \"label\" not in file:\n",
    "                with open(root+file,'r') as d:\n",
    "                    data = d.readlines()\n",
    "                    data = [x.split() for x in data]\n",
    "                    data = [[float(i) for i in x] for x in data]\n",
    "                training_dict[file] = data\n",
    "            else:\n",
    "                with open(root+file,'r') as d:\n",
    "                    label = d.readlines()\n",
    "                    label = [int(x[0]) for x in label ]\n",
    "                label_dict[file] = label\n"
   ]
  },
  {
   "cell_type": "code",
   "execution_count": null,
   "id": "adfcae3a",
   "metadata": {},
   "outputs": [],
   "source": []
  }
 ],
 "metadata": {
  "kernelspec": {
   "display_name": "Python 3 (ipykernel)",
   "language": "python",
   "name": "python3"
  },
  "language_info": {
   "codemirror_mode": {
    "name": "ipython",
    "version": 3
   },
   "file_extension": ".py",
   "mimetype": "text/x-python",
   "name": "python",
   "nbconvert_exporter": "python",
   "pygments_lexer": "ipython3",
   "version": "3.8.12"
  }
 },
 "nbformat": 4,
 "nbformat_minor": 5
}
