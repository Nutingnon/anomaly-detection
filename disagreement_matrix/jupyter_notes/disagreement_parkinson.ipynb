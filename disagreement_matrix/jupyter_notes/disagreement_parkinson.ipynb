{
 "cells": [
  {
   "cell_type": "code",
   "execution_count": 1,
   "id": "e8b77fb9",
   "metadata": {},
   "outputs": [],
   "source": [
    "import pandas as pd\n",
    "import numpy as np\n",
    "import os\n",
    "import sys\n",
    "from sklearn.ensemble import IsolationForest\n",
    "from sklearn.neighbors import LocalOutlierFactor\n",
    "import re\n",
    "from sklearn.preprocessing import RobustScaler\n",
    "import scipy.stats as ss\n",
    "from sklearn.metrics import f1_score\n",
    "from sklearn.metrics import accuracy_score"
   ]
  },
  {
   "cell_type": "code",
   "execution_count": 7,
   "id": "df977a11",
   "metadata": {},
   "outputs": [
    {
     "data": {
      "text/plain": [
       "['lympho.mat',\n",
       " 'wbc.mat',\n",
       " 'breast-cancer-wisconsin.names',\n",
       " 'breast-cancer-wisconsin.data']"
      ]
     },
     "execution_count": 7,
     "metadata": {},
     "output_type": "execute_result"
    }
   ],
   "source": [
    "os.listdir('/Users/kadima/experiment_any/anomaly-detection/datasets')"
   ]
  },
  {
   "cell_type": "code",
   "execution_count": 8,
   "id": "1ac27ab6",
   "metadata": {},
   "outputs": [],
   "source": [
    "with open(\"./Parkinson_withoutdupl_75.txt\",'r') as f:\n",
    "    data = f.readlines()\n",
    "# print(data[28:-2])\n",
    "col_names = []\n",
    "list_ = []\n",
    "for id_, line in enumerate(data):\n",
    "    if line.startswith(\"@ATTRIBUTE\"):\n",
    "        colName = re.findall(\"@ATTRIBUTE '(.*?)'\", line)[0]\n",
    "        col_names.append(colName)\n",
    "    if id_ >= 28 and id_<= len(data) - 1 and line != \"\\n\":\n",
    "        new_line = line.split(\",\")\n",
    "        new_line = [x.strip() for x in new_line]\n",
    "        new_line = [float(new_line[x]) for x in range(len(new_line)-1)] + [new_line[-1].replace(\"'\",\"\")]\n",
    "        list_.append(new_line)\n",
    "        \n",
    "df = pd.DataFrame(list_, columns=col_names)\n",
    "df['outlier'] = df.outlier.apply(lambda x: 1 if x =='yes' else 0)"
   ]
  },
  {
   "cell_type": "code",
   "execution_count": 9,
   "id": "8d1ba6bd",
   "metadata": {},
   "outputs": [],
   "source": [
    "df_sampled = df.sample(frac=1).reset_index(drop=True)\n",
    "X = df_sampled.iloc[:,1:-1]\n",
    "y_ground_truth = df_sampled.iloc[:,-1]"
   ]
  },
  {
   "cell_type": "code",
   "execution_count": 10,
   "id": "2b75a58f",
   "metadata": {},
   "outputs": [
    {
     "data": {
      "text/html": [
       "<div>\n",
       "<style scoped>\n",
       "    .dataframe tbody tr th:only-of-type {\n",
       "        vertical-align: middle;\n",
       "    }\n",
       "\n",
       "    .dataframe tbody tr th {\n",
       "        vertical-align: top;\n",
       "    }\n",
       "\n",
       "    .dataframe thead th {\n",
       "        text-align: right;\n",
       "    }\n",
       "</style>\n",
       "<table border=\"1\" class=\"dataframe\">\n",
       "  <thead>\n",
       "    <tr style=\"text-align: right;\">\n",
       "      <th></th>\n",
       "      <th>MDVP:Fo(Hz)</th>\n",
       "      <th>MDVP:Fhi(Hz)</th>\n",
       "      <th>MDVP:Flo(Hz)</th>\n",
       "      <th>MDVP:Jitter(%)</th>\n",
       "      <th>MDVP:Jitter(Abs)</th>\n",
       "      <th>MDVP:RAP</th>\n",
       "      <th>MDVP:PPQ</th>\n",
       "      <th>Jitter:DDP</th>\n",
       "      <th>MDVP:Shimmer</th>\n",
       "      <th>MDVP:Shimmer(dB)</th>\n",
       "      <th>...</th>\n",
       "      <th>MDVP:APQ</th>\n",
       "      <th>Shimmer:DDA</th>\n",
       "      <th>NHR</th>\n",
       "      <th>HNR</th>\n",
       "      <th>RPDE</th>\n",
       "      <th>DFA</th>\n",
       "      <th>spread1</th>\n",
       "      <th>spread2</th>\n",
       "      <th>D2</th>\n",
       "      <th>PPE</th>\n",
       "    </tr>\n",
       "  </thead>\n",
       "  <tbody>\n",
       "    <tr>\n",
       "      <th>0</th>\n",
       "      <td>127.930</td>\n",
       "      <td>138.752</td>\n",
       "      <td>112.173</td>\n",
       "      <td>0.00605</td>\n",
       "      <td>0.00005</td>\n",
       "      <td>0.00321</td>\n",
       "      <td>0.00318</td>\n",
       "      <td>0.00962</td>\n",
       "      <td>0.03235</td>\n",
       "      <td>0.339</td>\n",
       "      <td>...</td>\n",
       "      <td>0.03105</td>\n",
       "      <td>0.04079</td>\n",
       "      <td>0.02663</td>\n",
       "      <td>19.651</td>\n",
       "      <td>0.654945</td>\n",
       "      <td>0.675865</td>\n",
       "      <td>-5.498456</td>\n",
       "      <td>0.234196</td>\n",
       "      <td>2.103014</td>\n",
       "      <td>0.216638</td>\n",
       "    </tr>\n",
       "    <tr>\n",
       "      <th>1</th>\n",
       "      <td>114.847</td>\n",
       "      <td>271.314</td>\n",
       "      <td>104.680</td>\n",
       "      <td>0.00867</td>\n",
       "      <td>0.00008</td>\n",
       "      <td>0.00373</td>\n",
       "      <td>0.00520</td>\n",
       "      <td>0.01120</td>\n",
       "      <td>0.03225</td>\n",
       "      <td>0.350</td>\n",
       "      <td>...</td>\n",
       "      <td>0.02519</td>\n",
       "      <td>0.05414</td>\n",
       "      <td>0.01143</td>\n",
       "      <td>21.660</td>\n",
       "      <td>0.547975</td>\n",
       "      <td>0.817396</td>\n",
       "      <td>-4.609161</td>\n",
       "      <td>0.221711</td>\n",
       "      <td>1.831691</td>\n",
       "      <td>0.316395</td>\n",
       "    </tr>\n",
       "    <tr>\n",
       "      <th>2</th>\n",
       "      <td>208.519</td>\n",
       "      <td>220.315</td>\n",
       "      <td>199.020</td>\n",
       "      <td>0.00609</td>\n",
       "      <td>0.00003</td>\n",
       "      <td>0.00368</td>\n",
       "      <td>0.00339</td>\n",
       "      <td>0.01105</td>\n",
       "      <td>0.01761</td>\n",
       "      <td>0.155</td>\n",
       "      <td>...</td>\n",
       "      <td>0.01307</td>\n",
       "      <td>0.02855</td>\n",
       "      <td>0.00830</td>\n",
       "      <td>22.407</td>\n",
       "      <td>0.338097</td>\n",
       "      <td>0.712466</td>\n",
       "      <td>-6.471427</td>\n",
       "      <td>0.184378</td>\n",
       "      <td>2.502336</td>\n",
       "      <td>0.136390</td>\n",
       "    </tr>\n",
       "    <tr>\n",
       "      <th>3</th>\n",
       "      <td>206.327</td>\n",
       "      <td>226.355</td>\n",
       "      <td>92.020</td>\n",
       "      <td>0.00495</td>\n",
       "      <td>0.00002</td>\n",
       "      <td>0.00302</td>\n",
       "      <td>0.00246</td>\n",
       "      <td>0.00905</td>\n",
       "      <td>0.02105</td>\n",
       "      <td>0.209</td>\n",
       "      <td>...</td>\n",
       "      <td>0.01604</td>\n",
       "      <td>0.03320</td>\n",
       "      <td>0.01048</td>\n",
       "      <td>21.864</td>\n",
       "      <td>0.331508</td>\n",
       "      <td>0.715121</td>\n",
       "      <td>-6.729713</td>\n",
       "      <td>0.181701</td>\n",
       "      <td>2.938114</td>\n",
       "      <td>0.115515</td>\n",
       "    </tr>\n",
       "    <tr>\n",
       "      <th>4</th>\n",
       "      <td>115.380</td>\n",
       "      <td>123.109</td>\n",
       "      <td>108.634</td>\n",
       "      <td>0.00332</td>\n",
       "      <td>0.00003</td>\n",
       "      <td>0.00160</td>\n",
       "      <td>0.00199</td>\n",
       "      <td>0.00480</td>\n",
       "      <td>0.01503</td>\n",
       "      <td>0.137</td>\n",
       "      <td>...</td>\n",
       "      <td>0.01133</td>\n",
       "      <td>0.02436</td>\n",
       "      <td>0.00401</td>\n",
       "      <td>26.005</td>\n",
       "      <td>0.405991</td>\n",
       "      <td>0.761255</td>\n",
       "      <td>-5.966779</td>\n",
       "      <td>0.197938</td>\n",
       "      <td>1.974857</td>\n",
       "      <td>0.184067</td>\n",
       "    </tr>\n",
       "    <tr>\n",
       "      <th>...</th>\n",
       "      <td>...</td>\n",
       "      <td>...</td>\n",
       "      <td>...</td>\n",
       "      <td>...</td>\n",
       "      <td>...</td>\n",
       "      <td>...</td>\n",
       "      <td>...</td>\n",
       "      <td>...</td>\n",
       "      <td>...</td>\n",
       "      <td>...</td>\n",
       "      <td>...</td>\n",
       "      <td>...</td>\n",
       "      <td>...</td>\n",
       "      <td>...</td>\n",
       "      <td>...</td>\n",
       "      <td>...</td>\n",
       "      <td>...</td>\n",
       "      <td>...</td>\n",
       "      <td>...</td>\n",
       "      <td>...</td>\n",
       "      <td>...</td>\n",
       "    </tr>\n",
       "    <tr>\n",
       "      <th>190</th>\n",
       "      <td>210.141</td>\n",
       "      <td>232.706</td>\n",
       "      <td>185.258</td>\n",
       "      <td>0.00534</td>\n",
       "      <td>0.00003</td>\n",
       "      <td>0.00321</td>\n",
       "      <td>0.00280</td>\n",
       "      <td>0.00964</td>\n",
       "      <td>0.01680</td>\n",
       "      <td>0.149</td>\n",
       "      <td>...</td>\n",
       "      <td>0.01301</td>\n",
       "      <td>0.02583</td>\n",
       "      <td>0.00620</td>\n",
       "      <td>23.671</td>\n",
       "      <td>0.441097</td>\n",
       "      <td>0.722254</td>\n",
       "      <td>-5.963040</td>\n",
       "      <td>0.250283</td>\n",
       "      <td>2.489191</td>\n",
       "      <td>0.177807</td>\n",
       "    </tr>\n",
       "    <tr>\n",
       "      <th>191</th>\n",
       "      <td>148.090</td>\n",
       "      <td>162.824</td>\n",
       "      <td>67.343</td>\n",
       "      <td>0.00762</td>\n",
       "      <td>0.00005</td>\n",
       "      <td>0.00467</td>\n",
       "      <td>0.00354</td>\n",
       "      <td>0.01400</td>\n",
       "      <td>0.05428</td>\n",
       "      <td>0.497</td>\n",
       "      <td>...</td>\n",
       "      <td>0.03635</td>\n",
       "      <td>0.10070</td>\n",
       "      <td>0.02431</td>\n",
       "      <td>21.718</td>\n",
       "      <td>0.487407</td>\n",
       "      <td>0.727313</td>\n",
       "      <td>-6.261141</td>\n",
       "      <td>0.120956</td>\n",
       "      <td>2.137075</td>\n",
       "      <td>0.141958</td>\n",
       "    </tr>\n",
       "    <tr>\n",
       "      <th>192</th>\n",
       "      <td>198.116</td>\n",
       "      <td>233.099</td>\n",
       "      <td>174.478</td>\n",
       "      <td>0.02714</td>\n",
       "      <td>0.00014</td>\n",
       "      <td>0.01568</td>\n",
       "      <td>0.01699</td>\n",
       "      <td>0.04705</td>\n",
       "      <td>0.08684</td>\n",
       "      <td>1.018</td>\n",
       "      <td>...</td>\n",
       "      <td>0.08318</td>\n",
       "      <td>0.12851</td>\n",
       "      <td>0.16265</td>\n",
       "      <td>9.449</td>\n",
       "      <td>0.584164</td>\n",
       "      <td>0.754449</td>\n",
       "      <td>-2.839756</td>\n",
       "      <td>0.356224</td>\n",
       "      <td>3.184027</td>\n",
       "      <td>0.454721</td>\n",
       "    </tr>\n",
       "    <tr>\n",
       "      <th>193</th>\n",
       "      <td>176.824</td>\n",
       "      <td>215.293</td>\n",
       "      <td>83.961</td>\n",
       "      <td>0.00460</td>\n",
       "      <td>0.00003</td>\n",
       "      <td>0.00209</td>\n",
       "      <td>0.00221</td>\n",
       "      <td>0.00628</td>\n",
       "      <td>0.01169</td>\n",
       "      <td>0.117</td>\n",
       "      <td>...</td>\n",
       "      <td>0.01104</td>\n",
       "      <td>0.01603</td>\n",
       "      <td>0.01161</td>\n",
       "      <td>27.166</td>\n",
       "      <td>0.400088</td>\n",
       "      <td>0.656182</td>\n",
       "      <td>-4.711007</td>\n",
       "      <td>0.281618</td>\n",
       "      <td>2.655744</td>\n",
       "      <td>0.234809</td>\n",
       "    </tr>\n",
       "    <tr>\n",
       "      <th>194</th>\n",
       "      <td>166.605</td>\n",
       "      <td>206.008</td>\n",
       "      <td>78.032</td>\n",
       "      <td>0.00742</td>\n",
       "      <td>0.00004</td>\n",
       "      <td>0.00387</td>\n",
       "      <td>0.00453</td>\n",
       "      <td>0.01161</td>\n",
       "      <td>0.06640</td>\n",
       "      <td>0.634</td>\n",
       "      <td>...</td>\n",
       "      <td>0.05114</td>\n",
       "      <td>0.10949</td>\n",
       "      <td>0.08725</td>\n",
       "      <td>11.744</td>\n",
       "      <td>0.653410</td>\n",
       "      <td>0.733165</td>\n",
       "      <td>-4.508984</td>\n",
       "      <td>0.389232</td>\n",
       "      <td>3.317586</td>\n",
       "      <td>0.301952</td>\n",
       "    </tr>\n",
       "  </tbody>\n",
       "</table>\n",
       "<p>195 rows × 22 columns</p>\n",
       "</div>"
      ],
      "text/plain": [
       "     MDVP:Fo(Hz)  MDVP:Fhi(Hz)  MDVP:Flo(Hz)  MDVP:Jitter(%)  \\\n",
       "0        127.930       138.752       112.173         0.00605   \n",
       "1        114.847       271.314       104.680         0.00867   \n",
       "2        208.519       220.315       199.020         0.00609   \n",
       "3        206.327       226.355        92.020         0.00495   \n",
       "4        115.380       123.109       108.634         0.00332   \n",
       "..           ...           ...           ...             ...   \n",
       "190      210.141       232.706       185.258         0.00534   \n",
       "191      148.090       162.824        67.343         0.00762   \n",
       "192      198.116       233.099       174.478         0.02714   \n",
       "193      176.824       215.293        83.961         0.00460   \n",
       "194      166.605       206.008        78.032         0.00742   \n",
       "\n",
       "     MDVP:Jitter(Abs)  MDVP:RAP  MDVP:PPQ  Jitter:DDP  MDVP:Shimmer  \\\n",
       "0             0.00005   0.00321   0.00318     0.00962       0.03235   \n",
       "1             0.00008   0.00373   0.00520     0.01120       0.03225   \n",
       "2             0.00003   0.00368   0.00339     0.01105       0.01761   \n",
       "3             0.00002   0.00302   0.00246     0.00905       0.02105   \n",
       "4             0.00003   0.00160   0.00199     0.00480       0.01503   \n",
       "..                ...       ...       ...         ...           ...   \n",
       "190           0.00003   0.00321   0.00280     0.00964       0.01680   \n",
       "191           0.00005   0.00467   0.00354     0.01400       0.05428   \n",
       "192           0.00014   0.01568   0.01699     0.04705       0.08684   \n",
       "193           0.00003   0.00209   0.00221     0.00628       0.01169   \n",
       "194           0.00004   0.00387   0.00453     0.01161       0.06640   \n",
       "\n",
       "     MDVP:Shimmer(dB)  ...  MDVP:APQ  Shimmer:DDA      NHR     HNR      RPDE  \\\n",
       "0               0.339  ...   0.03105      0.04079  0.02663  19.651  0.654945   \n",
       "1               0.350  ...   0.02519      0.05414  0.01143  21.660  0.547975   \n",
       "2               0.155  ...   0.01307      0.02855  0.00830  22.407  0.338097   \n",
       "3               0.209  ...   0.01604      0.03320  0.01048  21.864  0.331508   \n",
       "4               0.137  ...   0.01133      0.02436  0.00401  26.005  0.405991   \n",
       "..                ...  ...       ...          ...      ...     ...       ...   \n",
       "190             0.149  ...   0.01301      0.02583  0.00620  23.671  0.441097   \n",
       "191             0.497  ...   0.03635      0.10070  0.02431  21.718  0.487407   \n",
       "192             1.018  ...   0.08318      0.12851  0.16265   9.449  0.584164   \n",
       "193             0.117  ...   0.01104      0.01603  0.01161  27.166  0.400088   \n",
       "194             0.634  ...   0.05114      0.10949  0.08725  11.744  0.653410   \n",
       "\n",
       "          DFA   spread1   spread2        D2       PPE  \n",
       "0    0.675865 -5.498456  0.234196  2.103014  0.216638  \n",
       "1    0.817396 -4.609161  0.221711  1.831691  0.316395  \n",
       "2    0.712466 -6.471427  0.184378  2.502336  0.136390  \n",
       "3    0.715121 -6.729713  0.181701  2.938114  0.115515  \n",
       "4    0.761255 -5.966779  0.197938  1.974857  0.184067  \n",
       "..        ...       ...       ...       ...       ...  \n",
       "190  0.722254 -5.963040  0.250283  2.489191  0.177807  \n",
       "191  0.727313 -6.261141  0.120956  2.137075  0.141958  \n",
       "192  0.754449 -2.839756  0.356224  3.184027  0.454721  \n",
       "193  0.656182 -4.711007  0.281618  2.655744  0.234809  \n",
       "194  0.733165 -4.508984  0.389232  3.317586  0.301952  \n",
       "\n",
       "[195 rows x 22 columns]"
      ]
     },
     "execution_count": 10,
     "metadata": {},
     "output_type": "execute_result"
    }
   ],
   "source": [
    "X"
   ]
  },
  {
   "cell_type": "markdown",
   "id": "67e24840",
   "metadata": {},
   "source": [
    "- 孤立森林不用归一化\n",
    "- LOF 要做归一化"
   ]
  },
  {
   "cell_type": "code",
   "execution_count": 11,
   "id": "b4d78eb4",
   "metadata": {},
   "outputs": [],
   "source": [
    "ro_scaler = RobustScaler()\n",
    "X_scaled_robust = ro_scaler.fit_transform(X)"
   ]
  },
  {
   "cell_type": "markdown",
   "id": "200a3a5d",
   "metadata": {},
   "source": [
    "# 打分矩阵\n",
    "\n",
    "let's say we have 200 detectors"
   ]
  },
  {
   "cell_type": "code",
   "execution_count": 12,
   "id": "cf922cd1",
   "metadata": {},
   "outputs": [],
   "source": [
    "score_matrix = np.zeros([X.shape[0], 10])"
   ]
  },
  {
   "cell_type": "markdown",
   "id": "d75895fc",
   "metadata": {},
   "source": [
    "# 孤立森林"
   ]
  },
  {
   "cell_type": "code",
   "execution_count": 13,
   "id": "2d80d9ce",
   "metadata": {},
   "outputs": [],
   "source": [
    "isolate_clfs = []\n",
    "for i in range(5):\n",
    "    n_est = 100\n",
    "    clf = IsolationForest(n_estimators=n_est,contamination=0.5)\n",
    "    clf.fit(X)\n",
    "    output_score = abs(clf.score_samples(X))\n",
    "    score_matrix[:, i] = output_score\n",
    "    isolate_clfs.append(clf)"
   ]
  },
  {
   "cell_type": "markdown",
   "id": "2aeb8813",
   "metadata": {},
   "source": [
    "# LOF with scaled data"
   ]
  },
  {
   "cell_type": "code",
   "execution_count": 14,
   "id": "6d00058b",
   "metadata": {},
   "outputs": [],
   "source": [
    "lof_clfs = []\n",
    "for i in range(5):\n",
    "    n_nb = np.random.choice(range(5,20))\n",
    "    clf = LocalOutlierFactor(n_neighbors=n_nb)\n",
    "    clf.fit(X_scaled_robust)\n",
    "    score_ = abs(clf.negative_outlier_factor_)\n",
    "    score_matrix[:, i+5] = score_\n",
    "    lof_clfs.append(clf)"
   ]
  },
  {
   "cell_type": "code",
   "execution_count": 15,
   "id": "a9209bd9",
   "metadata": {},
   "outputs": [
    {
     "data": {
      "text/plain": [
       "array([[0.40108802, 0.38421255, 0.4010765 , ..., 1.00740911, 1.00917371,\n",
       "        1.00587199],\n",
       "       [0.46023578, 0.42690163, 0.44955457, ..., 1.07863342, 1.08900226,\n",
       "        1.13605142],\n",
       "       [0.43454773, 0.41442978, 0.45449004, ..., 1.24248553, 1.31727942,\n",
       "        1.34297865],\n",
       "       ...,\n",
       "       [0.66603446, 0.67315376, 0.65043818, ..., 1.39385669, 1.42148479,\n",
       "        1.42855563],\n",
       "       [0.42968634, 0.42901625, 0.43617137, ..., 1.15318336, 1.20069552,\n",
       "        1.14951026],\n",
       "       [0.53039386, 0.53137492, 0.51962237, ..., 1.27846076, 1.17234784,\n",
       "        1.11175718]])"
      ]
     },
     "execution_count": 15,
     "metadata": {},
     "output_type": "execute_result"
    }
   ],
   "source": [
    "score_matrix"
   ]
  },
  {
   "cell_type": "code",
   "execution_count": 16,
   "id": "445f2ba3",
   "metadata": {},
   "outputs": [
    {
     "data": {
      "text/plain": [
       "(195, 10)"
      ]
     },
     "execution_count": 16,
     "metadata": {},
     "output_type": "execute_result"
    }
   ],
   "source": [
    "score_matrix.shape"
   ]
  },
  {
   "cell_type": "markdown",
   "id": "338b6e09",
   "metadata": {},
   "source": [
    "# disagreement matrix\n",
    "\n",
    "## 1. ranking disagreement"
   ]
  },
  {
   "cell_type": "code",
   "execution_count": 17,
   "id": "cdea04f6",
   "metadata": {},
   "outputs": [],
   "source": [
    "rank_matrix = np.zeros([len(X), 10])"
   ]
  },
  {
   "cell_type": "code",
   "execution_count": 18,
   "id": "77c67dee",
   "metadata": {},
   "outputs": [
    {
     "data": {
      "text/plain": [
       "array([[ 55.,  13.,  38.,  45.,  49.,  16.,  25.,  50.,  41.,  35.],\n",
       "       [153., 124., 136., 134., 126., 120., 127., 112., 119., 148.],\n",
       "       [122.,  92., 139.,  97., 102., 140., 149., 173., 188., 188.],\n",
       "       [ 96.,  91., 101.,  90.,  58., 128., 131., 152., 118., 150.],\n",
       "       [  4.,  10.,  13.,   3.,   3.,   3.,   5.,  12.,  25.,  49.]])"
      ]
     },
     "execution_count": 18,
     "metadata": {},
     "output_type": "execute_result"
    }
   ],
   "source": [
    "for i in range(10):\n",
    "    # rank by each column and get its rank_position\n",
    "    rank_matrix[:,i] = ss.rankdata(score_matrix[:,i])\n",
    "rank_matrix[:5]"
   ]
  },
  {
   "cell_type": "markdown",
   "id": "b692ad56",
   "metadata": {},
   "source": [
    "calculate standard deviation"
   ]
  },
  {
   "cell_type": "code",
   "execution_count": 19,
   "id": "f863f8fc",
   "metadata": {},
   "outputs": [],
   "source": [
    "std_record = np.zeros(len(X))\n",
    "for i in range(195):\n",
    "    std_record[i] = np.std(rank_matrix[i,:])"
   ]
  },
  {
   "cell_type": "code",
   "execution_count": 20,
   "id": "63a8c968",
   "metadata": {
    "scrolled": true
   },
   "outputs": [
    {
     "data": {
      "text/plain": [
       "array([13.71896498, 12.29186723, 34.19064199, 28.12916636, 13.76263056,\n",
       "       13.60735095, 35.04054794, 39.8282563 , 26.43179903, 42.61736735,\n",
       "       14.47376938, 27.72525924, 30.01083138, 12.89340917,  8.56504524,\n",
       "        8.57263087, 30.95561338, 42.78971839, 17.16857595,  9.2173749 ,\n",
       "       11.35825691, 39.75235842, 52.20584258,  4.65295605, 20.88061302,\n",
       "       21.66771792, 15.06519167, 40.98890094, 32.25972722, 29.52642884,\n",
       "        9.60416576, 31.16793224, 48.14862407, 26.36380094,  0.5       ,\n",
       "        8.60232527, 12.87788803, 36.74782306, 15.83161394,  2.54754784,\n",
       "       48.9035786 , 24.7549995 , 12.92323489, 21.44970862, 22.47754435,\n",
       "       12.06192356, 18.73632835, 19.04757202, 19.4257561 , 37.92571687,\n",
       "       24.78225171, 22.41567532, 27.97159273, 32.50307678, 16.1752898 ,\n",
       "       21.61388443,  6.48151217, 21.13030998, 27.88207309, 21.72095762,\n",
       "       35.27052594, 48.6671347 , 31.57467339, 11.13058848, 21.14450283,\n",
       "       24.1091269 ,  7.36545993, 39.0262732 , 18.53887807, 23.2768125 ,\n",
       "       21.68962886, 18.36845121, 11.84071366, 22.38861318, 25.67800615,\n",
       "       14.25622671, 56.21885805,  7.79037868, 24.56745815, 16.05116818,\n",
       "       16.62046931, 31.62024668, 12.99269025, 53.82341498, 18.91665932,\n",
       "       14.00749799, 39.13310619, 15.09337603, 50.97489578, 35.90111419,\n",
       "        0.87177979, 27.43519637, 39.15213915, 12.56343902, 34.45359198,\n",
       "       27.30567707, 17.81151313, 12.06026534, 35.327185  , 45.83677563,\n",
       "       17.18254929, 26.72545603, 17.73950394, 56.84901055, 23.41025416,\n",
       "       33.275216  , 23.09134037, 29.8377278 , 13.44804819, 28.27454686,\n",
       "       19.43296169, 24.72347063, 10.21958903, 28.78958145, 45.08259087,\n",
       "       28.14533709, 30.58120338, 21.84147431, 25.68287367, 42.37688049,\n",
       "       28.04086304, 40.09251801, 22.27756719,  9.79030132, 13.58712626,\n",
       "        6.52993109, 42.95451082, 11.55951989, 13.187968  , 18.90396784,\n",
       "       27.17425252, 26.29619744, 18.3040979 , 13.26499152, 27.01499584,\n",
       "        6.68131724, 16.68412419, 21.3656266 , 20.0539273 , 15.56566735,\n",
       "       41.44019788, 23.58919244, 22.16844604, 35.94509702, 18.03912415,\n",
       "       22.08642117, 44.20870955, 24.40266379,  4.81248377, 11.88949116,\n",
       "       21.34033739, 38.86759576, 12.8844868 , 54.75034246, 25.75286392,\n",
       "       43.98056389, 29.32933685, 39.53239178, 23.62541005, 24.40184419,\n",
       "       18.7147001 , 18.52673744, 32.49938461, 41.00027439, 36.83259426,\n",
       "       45.39162918, 31.51571037, 44.18551799, 21.25299979, 25.5687309 ,\n",
       "        9.48683298, 17.96552254, 39.34005592, 11.1718396 , 24.29073898,\n",
       "       35.14598128,  6.23618473, 44.94619005, 11.46690891, 37.65368508,\n",
       "       32.75118318, 14.12409289, 26.06913884,  0.78102497, 26.99277681,\n",
       "       11.41227409, 30.32836956, 20.0099975 , 23.65248401, 39.0850355 ,\n",
       "       54.8       , 14.743134  ,  0.48989795, 20.87965517, 12.63685087])"
      ]
     },
     "execution_count": 20,
     "metadata": {},
     "output_type": "execute_result"
    }
   ],
   "source": [
    "std_record"
   ]
  },
  {
   "cell_type": "markdown",
   "id": "93d8b25b",
   "metadata": {},
   "source": [
    "get top 5 and get the middle score"
   ]
  },
  {
   "cell_type": "code",
   "execution_count": 21,
   "id": "ae992122",
   "metadata": {},
   "outputs": [
    {
     "data": {
      "text/plain": [
       "array([ 83, 153, 190,  76, 103])"
      ]
     },
     "execution_count": 21,
     "metadata": {},
     "output_type": "execute_result"
    }
   ],
   "source": [
    "std_max_rows = np.argsort(std_record)[-5:]\n",
    "std_max_rows"
   ]
  },
  {
   "cell_type": "code",
   "execution_count": 22,
   "id": "ff270393",
   "metadata": {
    "scrolled": true
   },
   "outputs": [
    {
     "name": "stdout",
     "output_type": "stream",
     "text": [
      "[[ 18.  39.  21.  47.  45. 112.  81. 135. 152. 172.]\n",
      " [189. 186. 188. 185. 186. 174. 182. 103.  73.  34.]\n",
      " [ 44.  50.  92.  43.  66. 143. 138. 160. 183. 185.]\n",
      " [ 61.  31.  15.  70.  39. 119. 104. 153. 176. 170.]\n",
      " [186. 184. 184. 187. 187. 184. 187. 140.  48.  36.]]\n",
      "\n",
      "[53.82341498 54.75034246 54.8        56.21885805 56.84901055]\n"
     ]
    }
   ],
   "source": [
    "print(rank_matrix[std_max_rows])\n",
    "print()\n",
    "print(std_record[std_max_rows])"
   ]
  },
  {
   "cell_type": "markdown",
   "id": "3c98904c",
   "metadata": {},
   "source": [
    "so, we get the score threshold:"
   ]
  },
  {
   "cell_type": "code",
   "execution_count": 23,
   "id": "a0f6bca0",
   "metadata": {},
   "outputs": [
    {
     "data": {
      "text/plain": [
       "array([0.56572759, 0.54171094, 0.55097216, 0.56339741, 0.56935567,\n",
       "       1.48989399, 1.5758991 , 1.13131512, 1.01729151, 1.00614312])"
      ]
     },
     "execution_count": 23,
     "metadata": {},
     "output_type": "execute_result"
    }
   ],
   "source": [
    "score_matrix[std_max_rows[-1]]"
   ]
  },
  {
   "cell_type": "markdown",
   "id": "bf3c5bf5",
   "metadata": {},
   "source": [
    "# comparison\n",
    "## 1. SD\n",
    "## 2. IQR\n",
    "## 3. MAD\n",
    "## 4. 2T\n",
    "## 5. clever standard deviation\n",
    "## 6. disagreement\n",
    "\n",
    "----"
   ]
  },
  {
   "cell_type": "markdown",
   "id": "c90dafe9",
   "metadata": {},
   "source": [
    "lof_clfs, isolate_clfs"
   ]
  },
  {
   "cell_type": "code",
   "execution_count": 24,
   "id": "cbba9e2d",
   "metadata": {},
   "outputs": [],
   "source": [
    "perform_records_base = {\"SD\":{}, \"IQR\":{}, \"MAD\":{}, \"2T\":{}, \"Disagreement\":{}}\n",
    "for i in [\"eucledian\", \"scaled_eucledian\",]+ [\"clf_\"+str(j+1) for j in range(10)]:\n",
    "    for key in perform_records_base.keys():\n",
    "        perform_records_base[key][i]=0\n",
    "acc_perform = perform_records_base.copy()\n",
    "f1_perform = perform_records_base.copy()"
   ]
  },
  {
   "cell_type": "markdown",
   "id": "2a016369",
   "metadata": {},
   "source": [
    "### 1. SD_model"
   ]
  },
  {
   "cell_type": "code",
   "execution_count": 25,
   "id": "fd26a770",
   "metadata": {},
   "outputs": [],
   "source": [
    "for i in range(score_matrix.shape[1]):\n",
    "    high_limit = np.mean(score_matrix[:, i]) + 3*np.std(score_matrix[:, i])\n",
    "    y_predict = score_matrix[:,i]>high_limit\n",
    "    y_predict = [1 if j else 0 for j in y_predict]\n",
    "    f1 = f1_score(y_ground_truth, y_predict)\n",
    "    acc = accuracy_score(y_ground_truth, y_predict)\n",
    "    f1_perform[\"SD\"][\"clf_\"+str(i+1)] = f1\n",
    "    acc_perform[\"SD\"][\"clf_\"+str(i+1)] = acc"
   ]
  },
  {
   "cell_type": "markdown",
   "id": "d350a75d",
   "metadata": {},
   "source": [
    "### IQR model\n"
   ]
  },
  {
   "cell_type": "code",
   "execution_count": 26,
   "id": "8a22a759",
   "metadata": {},
   "outputs": [],
   "source": [
    "for i in range(score_matrix.shape[1]):\n",
    "    iqr = np.percentile(score_matrix[:,i],75) - np.percentile(score_matrix[:,i],25)\n",
    "    y_predict = score_matrix[:,i]> np.percentile(score_matrix[:,i],75)+1.5*iqr\n",
    "    y_predict = [1 if j else 0 for j in y_predict]\n",
    "    f1 = f1_score(y_ground_truth, y_predict)\n",
    "    acc = accuracy_score(y_ground_truth, y_predict)\n",
    "    f1_perform[\"IQR\"][\"clf_\"+str(i+1)] = f1\n",
    "    acc_perform[\"IQR\"][\"clf_\"+str(i+1)] = acc\n",
    "    "
   ]
  },
  {
   "cell_type": "markdown",
   "id": "71d9b0b6",
   "metadata": {},
   "source": [
    "### MAD model"
   ]
  },
  {
   "cell_type": "code",
   "execution_count": 27,
   "id": "1a29f2cf",
   "metadata": {},
   "outputs": [],
   "source": [
    "for i in range(score_matrix.shape[1]):\n",
    "    median_ = np.median(score_matrix[:,i])\n",
    "    mad = 1.4826*np.median(np.abs(score_matrix[:,i]-median_))\n",
    "    y_predict = score_matrix[:,i]> 3*mad\n",
    "    y_predict = [1 if j else 0 for j in y_predict]\n",
    "    f1 = f1_score(y_ground_truth, y_predict)\n",
    "    acc = accuracy_score(y_ground_truth, y_predict)\n",
    "    f1_perform[\"MAD\"][\"clf_\"+str(i+1)] = f1\n",
    "    acc_perform[\"MAD\"][\"clf_\"+str(i+1)] = acc"
   ]
  },
  {
   "cell_type": "markdown",
   "id": "8b1b9375",
   "metadata": {},
   "source": [
    "### disagreement"
   ]
  },
  {
   "cell_type": "code",
   "execution_count": 28,
   "id": "cc097690",
   "metadata": {},
   "outputs": [],
   "source": [
    "for i in range(score_matrix.shape[1]):\n",
    "    y_predict = score_matrix[:,i] > score_matrix[std_max_rows[-1]][i]\n",
    "    y_predict = [1 if j else 0 for j in y_predict]\n",
    "    f1 = f1_score(y_ground_truth, y_predict)\n",
    "    acc = accuracy_score(y_ground_truth, y_predict)\n",
    "    f1_perform[\"Disagreement\"][\"clf_\"+str(i+1)] = f1\n",
    "    acc_perform[\"Disagreement\"][\"clf_\"+str(i+1)] = acc"
   ]
  },
  {
   "cell_type": "code",
   "execution_count": 29,
   "id": "da89901c",
   "metadata": {
    "scrolled": true
   },
   "outputs": [
    {
     "data": {
      "text/plain": [
       "{'SD': {'eucledian': 0,\n",
       "  'scaled_eucledian': 0,\n",
       "  'clf_1': 0.2717948717948718,\n",
       "  'clf_2': 0.27692307692307694,\n",
       "  'clf_3': 0.2717948717948718,\n",
       "  'clf_4': 0.2717948717948718,\n",
       "  'clf_5': 0.26666666666666666,\n",
       "  'clf_6': 0.26153846153846155,\n",
       "  'clf_7': 0.26666666666666666,\n",
       "  'clf_8': 0.2564102564102564,\n",
       "  'clf_9': 0.2564102564102564,\n",
       "  'clf_10': 0.2564102564102564},\n",
       " 'IQR': {'eucledian': 0,\n",
       "  'scaled_eucledian': 0,\n",
       "  'clf_1': 0.3128205128205128,\n",
       "  'clf_2': 0.3230769230769231,\n",
       "  'clf_3': 0.3128205128205128,\n",
       "  'clf_4': 0.3128205128205128,\n",
       "  'clf_5': 0.3128205128205128,\n",
       "  'clf_6': 0.2923076923076923,\n",
       "  'clf_7': 0.3230769230769231,\n",
       "  'clf_8': 0.27692307692307694,\n",
       "  'clf_9': 0.28205128205128205,\n",
       "  'clf_10': 0.2717948717948718},\n",
       " 'MAD': {'eucledian': 0,\n",
       "  'scaled_eucledian': 0,\n",
       "  'clf_1': 0.7538461538461538,\n",
       "  'clf_2': 0.7538461538461538,\n",
       "  'clf_3': 0.7538461538461538,\n",
       "  'clf_4': 0.7538461538461538,\n",
       "  'clf_5': 0.7538461538461538,\n",
       "  'clf_6': 0.7538461538461538,\n",
       "  'clf_7': 0.7538461538461538,\n",
       "  'clf_8': 0.7538461538461538,\n",
       "  'clf_9': 0.7538461538461538,\n",
       "  'clf_10': 0.7538461538461538},\n",
       " '2T': {'eucledian': 0,\n",
       "  'scaled_eucledian': 0,\n",
       "  'clf_1': 0,\n",
       "  'clf_2': 0,\n",
       "  'clf_3': 0,\n",
       "  'clf_4': 0,\n",
       "  'clf_5': 0,\n",
       "  'clf_6': 0,\n",
       "  'clf_7': 0,\n",
       "  'clf_8': 0,\n",
       "  'clf_9': 0,\n",
       "  'clf_10': 0},\n",
       " 'Disagreement': {'eucledian': 0,\n",
       "  'scaled_eucledian': 0,\n",
       "  'clf_1': 0.2923076923076923,\n",
       "  'clf_2': 0.30256410256410254,\n",
       "  'clf_3': 0.30256410256410254,\n",
       "  'clf_4': 0.28717948717948716,\n",
       "  'clf_5': 0.28717948717948716,\n",
       "  'clf_6': 0.28205128205128205,\n",
       "  'clf_7': 0.26666666666666666,\n",
       "  'clf_8': 0.4564102564102564,\n",
       "  'clf_9': 0.6717948717948717,\n",
       "  'clf_10': 0.6615384615384615}}"
      ]
     },
     "execution_count": 29,
     "metadata": {},
     "output_type": "execute_result"
    }
   ],
   "source": [
    "f1_perform"
   ]
  },
  {
   "cell_type": "markdown",
   "id": "4d0e9950",
   "metadata": {},
   "source": [
    "## 2T-SD"
   ]
  },
  {
   "cell_type": "code",
   "execution_count": 30,
   "id": "b1ce7c10",
   "metadata": {},
   "outputs": [],
   "source": [
    "for i in range(score_matrix.shape[1]):\n",
    "    high_limit = np.mean(score_matrix[:, i]) + 3*np.std(score_matrix[:, i])\n",
    "    std2 = np.std(score_matrix[:,i]<=high_limit)\n",
    "    high_limit2 = np.mean(score_matrix[score_matrix[:,i]<=high_limit, i]) + 3*std2\n",
    "    y_predict = score_matrix[:,i]> high_limit2\n",
    "    y_predict = [1 if j else 0 for j in y_predict]\n",
    "    f1 = f1_score(y_ground_truth, y_predict)\n",
    "    acc = accuracy_score(y_ground_truth, y_predict)\n",
    "    f1_perform[\"2T\"][\"clf_\"+str(i+1)] = f1\n",
    "    acc_perform[\"2T\"][\"clf_\"+str(i+1)] = acc"
   ]
  },
  {
   "cell_type": "code",
   "execution_count": 31,
   "id": "e23dac48",
   "metadata": {
    "scrolled": true
   },
   "outputs": [
    {
     "data": {
      "text/plain": [
       "{'SD': {'eucledian': 0,\n",
       "  'scaled_eucledian': 0,\n",
       "  'clf_1': 0.2717948717948718,\n",
       "  'clf_2': 0.27692307692307694,\n",
       "  'clf_3': 0.2717948717948718,\n",
       "  'clf_4': 0.2717948717948718,\n",
       "  'clf_5': 0.26666666666666666,\n",
       "  'clf_6': 0.26153846153846155,\n",
       "  'clf_7': 0.26666666666666666,\n",
       "  'clf_8': 0.2564102564102564,\n",
       "  'clf_9': 0.2564102564102564,\n",
       "  'clf_10': 0.2564102564102564},\n",
       " 'IQR': {'eucledian': 0,\n",
       "  'scaled_eucledian': 0,\n",
       "  'clf_1': 0.3128205128205128,\n",
       "  'clf_2': 0.3230769230769231,\n",
       "  'clf_3': 0.3128205128205128,\n",
       "  'clf_4': 0.3128205128205128,\n",
       "  'clf_5': 0.3128205128205128,\n",
       "  'clf_6': 0.2923076923076923,\n",
       "  'clf_7': 0.3230769230769231,\n",
       "  'clf_8': 0.27692307692307694,\n",
       "  'clf_9': 0.28205128205128205,\n",
       "  'clf_10': 0.2717948717948718},\n",
       " 'MAD': {'eucledian': 0,\n",
       "  'scaled_eucledian': 0,\n",
       "  'clf_1': 0.7538461538461538,\n",
       "  'clf_2': 0.7538461538461538,\n",
       "  'clf_3': 0.7538461538461538,\n",
       "  'clf_4': 0.7538461538461538,\n",
       "  'clf_5': 0.7538461538461538,\n",
       "  'clf_6': 0.7538461538461538,\n",
       "  'clf_7': 0.7538461538461538,\n",
       "  'clf_8': 0.7538461538461538,\n",
       "  'clf_9': 0.7538461538461538,\n",
       "  'clf_10': 0.7538461538461538},\n",
       " '2T': {'eucledian': 0,\n",
       "  'scaled_eucledian': 0,\n",
       "  'clf_1': 0.24615384615384617,\n",
       "  'clf_2': 0.24615384615384617,\n",
       "  'clf_3': 0.24615384615384617,\n",
       "  'clf_4': 0.24615384615384617,\n",
       "  'clf_5': 0.24615384615384617,\n",
       "  'clf_6': 0.28205128205128205,\n",
       "  'clf_7': 0.2717948717948718,\n",
       "  'clf_8': 0.2564102564102564,\n",
       "  'clf_9': 0.26153846153846155,\n",
       "  'clf_10': 0.26153846153846155},\n",
       " 'Disagreement': {'eucledian': 0,\n",
       "  'scaled_eucledian': 0,\n",
       "  'clf_1': 0.2923076923076923,\n",
       "  'clf_2': 0.30256410256410254,\n",
       "  'clf_3': 0.30256410256410254,\n",
       "  'clf_4': 0.28717948717948716,\n",
       "  'clf_5': 0.28717948717948716,\n",
       "  'clf_6': 0.28205128205128205,\n",
       "  'clf_7': 0.26666666666666666,\n",
       "  'clf_8': 0.4564102564102564,\n",
       "  'clf_9': 0.6717948717948717,\n",
       "  'clf_10': 0.6615384615384615}}"
      ]
     },
     "execution_count": 31,
     "metadata": {},
     "output_type": "execute_result"
    }
   ],
   "source": [
    "f1_perform"
   ]
  },
  {
   "cell_type": "code",
   "execution_count": null,
   "id": "8b028486",
   "metadata": {},
   "outputs": [],
   "source": []
  }
 ],
 "metadata": {
  "kernelspec": {
   "display_name": "Python 3",
   "language": "python",
   "name": "python3"
  },
  "language_info": {
   "codemirror_mode": {
    "name": "ipython",
    "version": 3
   },
   "file_extension": ".py",
   "mimetype": "text/x-python",
   "name": "python",
   "nbconvert_exporter": "python",
   "pygments_lexer": "ipython3",
   "version": "3.8.10"
  }
 },
 "nbformat": 4,
 "nbformat_minor": 5
}
