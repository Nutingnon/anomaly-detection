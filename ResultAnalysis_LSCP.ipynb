{
 "cells": [
  {
   "cell_type": "code",
   "execution_count": 1,
   "id": "9085fbfd",
   "metadata": {},
   "outputs": [],
   "source": [
    "import os\n",
    "import sys\n",
    "import pandas as pd\n",
    "import numpy as np"
   ]
  },
  {
   "cell_type": "code",
   "execution_count": 3,
   "id": "98fcd3f3",
   "metadata": {},
   "outputs": [],
   "source": [
    "base_detectors_and_lscp_res_path = \"/Users/kadima/experiment_any/anomaly-detection/disagreement_matrix/engineering_version/auc_results_sub/\"\n",
    "pd_dicts = dict()\n",
    "for file in os.listdir(base_detectors_and_lscp_res_path):\n",
    "    file_path = base_detectors_and_lscp_res_path+file\n",
    "    fname = file[:-5]\n",
    "    pd_dicts[fname] = pd.read_excel(file_path)"
   ]
  },
  {
   "cell_type": "code",
   "execution_count": 13,
   "id": "9c2dc25b",
   "metadata": {},
   "outputs": [],
   "source": [
    "columns = pd_dicts[\"WDBC_withoutdupl_v01\"].iloc[:,0].values\n",
    "auc_list = []\n",
    "fname_list = []\n",
    "for fname in pd_dicts.keys():\n",
    "    aucs_ = pd_dicts[fname].iloc[:,1].values\n",
    "    auc_list.append(aucs_)\n",
    "    fname_list.append(fname)"
   ]
  },
  {
   "cell_type": "code",
   "execution_count": 16,
   "id": "a85cb556",
   "metadata": {},
   "outputs": [],
   "source": [
    "pd.DataFrame(auc_list, index=fname_list, columns=columns).to_excel(\"result_lscp_on_each_dataset.xlsx\")"
   ]
  },
  {
   "cell_type": "code",
   "execution_count": null,
   "id": "a00bc598",
   "metadata": {},
   "outputs": [],
   "source": []
  }
 ],
 "metadata": {
  "kernelspec": {
   "display_name": "Python 3 (ipykernel)",
   "language": "python",
   "name": "python3"
  },
  "language_info": {
   "codemirror_mode": {
    "name": "ipython",
    "version": 3
   },
   "file_extension": ".py",
   "mimetype": "text/x-python",
   "name": "python",
   "nbconvert_exporter": "python",
   "pygments_lexer": "ipython3",
   "version": "3.8.12"
  }
 },
 "nbformat": 4,
 "nbformat_minor": 5
}
