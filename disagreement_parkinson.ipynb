{
 "cells": [
  {
   "cell_type": "code",
   "execution_count": 1,
   "id": "e8b77fb9",
   "metadata": {},
   "outputs": [],
   "source": [
    "import pandas as pd\n",
    "import numpy as np\n",
    "import os\n",
    "import sys\n",
    "from sklearn.ensemble import IsolationForest\n",
    "from sklearn.neighbors import LocalOutlierFactor\n",
    "import re\n",
    "from sklearn.preprocessing import RobustScaler\n",
    "import scipy.stats as ss\n",
    "from sklearn.metrics import f1_score\n",
    "from sklearn.metrics import accuracy_score"
   ]
  },
  {
   "cell_type": "code",
   "execution_count": 2,
   "id": "df977a11",
   "metadata": {},
   "outputs": [
    {
     "data": {
      "text/plain": [
       "['.idea',\n",
       " '.ipynb_checkpoints',\n",
       " 'baseModel.py',\n",
       " 'ceshi',\n",
       " 'dataloader',\n",
       " 'datasets',\n",
       " 'disagreement_KDDCup99.ipynb',\n",
       " 'disagreement_parkinson.ipynb',\n",
       " 'kddcup',\n",
       " 'Parkinson',\n",
       " 'Parkinson.tar.gz',\n",
       " 'Parkinson_withoutdupl_75.txt']"
      ]
     },
     "execution_count": 2,
     "metadata": {},
     "output_type": "execute_result"
    }
   ],
   "source": [
    "os.listdir('C:/Users/froke/jupyter_notebook_files/anomaly_detection/EMEM算法/')"
   ]
  },
  {
   "cell_type": "code",
   "execution_count": 3,
   "id": "1ac27ab6",
   "metadata": {},
   "outputs": [],
   "source": [
    "with open(\"./Parkinson_withoutdupl_75.txt\",'r') as f:\n",
    "    data = f.readlines()\n",
    "# print(data[28:-2])\n",
    "col_names = []\n",
    "list_ = []\n",
    "for id_, line in enumerate(data):\n",
    "    if line.startswith(\"@ATTRIBUTE\"):\n",
    "        colName = re.findall(\"@ATTRIBUTE '(.*?)'\", line)[0]\n",
    "        col_names.append(colName)\n",
    "    if id_ >= 28 and id_<= len(data) - 1 and line != \"\\n\":\n",
    "        new_line = line.split(\",\")\n",
    "        new_line = [x.strip() for x in new_line]\n",
    "        new_line = [float(new_line[x]) for x in range(len(new_line)-1)] + [new_line[-1].replace(\"'\",\"\")]\n",
    "        list_.append(new_line)\n",
    "        \n",
    "df = pd.DataFrame(list_, columns=col_names)\n",
    "df['outlier'] = df.outlier.apply(lambda x: 1 if x =='yes' else 0)"
   ]
  },
  {
   "cell_type": "code",
   "execution_count": 4,
   "id": "8d1ba6bd",
   "metadata": {},
   "outputs": [],
   "source": [
    "df_sampled = df.sample(frac=1).reset_index(drop=True)\n",
    "X = df_sampled.iloc[:,1:-1]\n",
    "y_ground_truth = df_sampled.iloc[:,-1]"
   ]
  },
  {
   "cell_type": "code",
   "execution_count": 5,
   "id": "2b75a58f",
   "metadata": {},
   "outputs": [
    {
     "data": {
      "text/html": [
       "<div>\n",
       "<style scoped>\n",
       "    .dataframe tbody tr th:only-of-type {\n",
       "        vertical-align: middle;\n",
       "    }\n",
       "\n",
       "    .dataframe tbody tr th {\n",
       "        vertical-align: top;\n",
       "    }\n",
       "\n",
       "    .dataframe thead th {\n",
       "        text-align: right;\n",
       "    }\n",
       "</style>\n",
       "<table border=\"1\" class=\"dataframe\">\n",
       "  <thead>\n",
       "    <tr style=\"text-align: right;\">\n",
       "      <th></th>\n",
       "      <th>MDVP:Fo(Hz)</th>\n",
       "      <th>MDVP:Fhi(Hz)</th>\n",
       "      <th>MDVP:Flo(Hz)</th>\n",
       "      <th>MDVP:Jitter(%)</th>\n",
       "      <th>MDVP:Jitter(Abs)</th>\n",
       "      <th>MDVP:RAP</th>\n",
       "      <th>MDVP:PPQ</th>\n",
       "      <th>Jitter:DDP</th>\n",
       "      <th>MDVP:Shimmer</th>\n",
       "      <th>MDVP:Shimmer(dB)</th>\n",
       "      <th>...</th>\n",
       "      <th>MDVP:APQ</th>\n",
       "      <th>Shimmer:DDA</th>\n",
       "      <th>NHR</th>\n",
       "      <th>HNR</th>\n",
       "      <th>RPDE</th>\n",
       "      <th>DFA</th>\n",
       "      <th>spread1</th>\n",
       "      <th>spread2</th>\n",
       "      <th>D2</th>\n",
       "      <th>PPE</th>\n",
       "    </tr>\n",
       "  </thead>\n",
       "  <tbody>\n",
       "    <tr>\n",
       "      <th>0</th>\n",
       "      <td>167.930</td>\n",
       "      <td>193.221</td>\n",
       "      <td>79.068</td>\n",
       "      <td>0.00442</td>\n",
       "      <td>0.000030</td>\n",
       "      <td>0.00220</td>\n",
       "      <td>0.00247</td>\n",
       "      <td>0.00661</td>\n",
       "      <td>0.04351</td>\n",
       "      <td>0.377</td>\n",
       "      <td>...</td>\n",
       "      <td>0.04246</td>\n",
       "      <td>0.06685</td>\n",
       "      <td>0.01280</td>\n",
       "      <td>22.468</td>\n",
       "      <td>0.619060</td>\n",
       "      <td>0.679834</td>\n",
       "      <td>-4.330956</td>\n",
       "      <td>0.262384</td>\n",
       "      <td>2.916777</td>\n",
       "      <td>0.285695</td>\n",
       "    </tr>\n",
       "    <tr>\n",
       "      <th>1</th>\n",
       "      <td>126.344</td>\n",
       "      <td>134.231</td>\n",
       "      <td>112.773</td>\n",
       "      <td>0.00448</td>\n",
       "      <td>0.000040</td>\n",
       "      <td>0.00131</td>\n",
       "      <td>0.00169</td>\n",
       "      <td>0.00393</td>\n",
       "      <td>0.02033</td>\n",
       "      <td>0.185</td>\n",
       "      <td>...</td>\n",
       "      <td>0.01614</td>\n",
       "      <td>0.03429</td>\n",
       "      <td>0.00474</td>\n",
       "      <td>25.030</td>\n",
       "      <td>0.507504</td>\n",
       "      <td>0.760361</td>\n",
       "      <td>-6.689151</td>\n",
       "      <td>0.291954</td>\n",
       "      <td>2.431854</td>\n",
       "      <td>0.105993</td>\n",
       "    </tr>\n",
       "    <tr>\n",
       "      <th>2</th>\n",
       "      <td>115.380</td>\n",
       "      <td>123.109</td>\n",
       "      <td>108.634</td>\n",
       "      <td>0.00332</td>\n",
       "      <td>0.000030</td>\n",
       "      <td>0.00160</td>\n",
       "      <td>0.00199</td>\n",
       "      <td>0.00480</td>\n",
       "      <td>0.01503</td>\n",
       "      <td>0.137</td>\n",
       "      <td>...</td>\n",
       "      <td>0.01133</td>\n",
       "      <td>0.02436</td>\n",
       "      <td>0.00401</td>\n",
       "      <td>26.005</td>\n",
       "      <td>0.405991</td>\n",
       "      <td>0.761255</td>\n",
       "      <td>-5.966779</td>\n",
       "      <td>0.197938</td>\n",
       "      <td>1.974857</td>\n",
       "      <td>0.184067</td>\n",
       "    </tr>\n",
       "    <tr>\n",
       "      <th>3</th>\n",
       "      <td>154.003</td>\n",
       "      <td>160.267</td>\n",
       "      <td>128.621</td>\n",
       "      <td>0.00183</td>\n",
       "      <td>0.000010</td>\n",
       "      <td>0.00076</td>\n",
       "      <td>0.00100</td>\n",
       "      <td>0.00229</td>\n",
       "      <td>0.01030</td>\n",
       "      <td>0.094</td>\n",
       "      <td>...</td>\n",
       "      <td>0.00871</td>\n",
       "      <td>0.01406</td>\n",
       "      <td>0.00243</td>\n",
       "      <td>28.409</td>\n",
       "      <td>0.263654</td>\n",
       "      <td>0.691483</td>\n",
       "      <td>-7.111576</td>\n",
       "      <td>0.144780</td>\n",
       "      <td>2.065477</td>\n",
       "      <td>0.093193</td>\n",
       "    </tr>\n",
       "    <tr>\n",
       "      <th>4</th>\n",
       "      <td>202.266</td>\n",
       "      <td>211.604</td>\n",
       "      <td>197.079</td>\n",
       "      <td>0.00180</td>\n",
       "      <td>0.000009</td>\n",
       "      <td>0.00093</td>\n",
       "      <td>0.00107</td>\n",
       "      <td>0.00278</td>\n",
       "      <td>0.00954</td>\n",
       "      <td>0.085</td>\n",
       "      <td>...</td>\n",
       "      <td>0.00719</td>\n",
       "      <td>0.01407</td>\n",
       "      <td>0.00072</td>\n",
       "      <td>32.684</td>\n",
       "      <td>0.368535</td>\n",
       "      <td>0.742133</td>\n",
       "      <td>-7.695734</td>\n",
       "      <td>0.178540</td>\n",
       "      <td>1.544609</td>\n",
       "      <td>0.056141</td>\n",
       "    </tr>\n",
       "    <tr>\n",
       "      <th>...</th>\n",
       "      <td>...</td>\n",
       "      <td>...</td>\n",
       "      <td>...</td>\n",
       "      <td>...</td>\n",
       "      <td>...</td>\n",
       "      <td>...</td>\n",
       "      <td>...</td>\n",
       "      <td>...</td>\n",
       "      <td>...</td>\n",
       "      <td>...</td>\n",
       "      <td>...</td>\n",
       "      <td>...</td>\n",
       "      <td>...</td>\n",
       "      <td>...</td>\n",
       "      <td>...</td>\n",
       "      <td>...</td>\n",
       "      <td>...</td>\n",
       "      <td>...</td>\n",
       "      <td>...</td>\n",
       "      <td>...</td>\n",
       "      <td>...</td>\n",
       "    </tr>\n",
       "    <tr>\n",
       "      <th>190</th>\n",
       "      <td>157.447</td>\n",
       "      <td>163.267</td>\n",
       "      <td>149.605</td>\n",
       "      <td>0.00369</td>\n",
       "      <td>0.000020</td>\n",
       "      <td>0.00201</td>\n",
       "      <td>0.00197</td>\n",
       "      <td>0.00602</td>\n",
       "      <td>0.03272</td>\n",
       "      <td>0.283</td>\n",
       "      <td>...</td>\n",
       "      <td>0.02571</td>\n",
       "      <td>0.05439</td>\n",
       "      <td>0.01018</td>\n",
       "      <td>21.693</td>\n",
       "      <td>0.447285</td>\n",
       "      <td>0.705658</td>\n",
       "      <td>-6.247076</td>\n",
       "      <td>0.180528</td>\n",
       "      <td>2.344348</td>\n",
       "      <td>0.164916</td>\n",
       "    </tr>\n",
       "    <tr>\n",
       "      <th>191</th>\n",
       "      <td>102.273</td>\n",
       "      <td>142.830</td>\n",
       "      <td>85.902</td>\n",
       "      <td>0.00907</td>\n",
       "      <td>0.000090</td>\n",
       "      <td>0.00493</td>\n",
       "      <td>0.00461</td>\n",
       "      <td>0.01480</td>\n",
       "      <td>0.02814</td>\n",
       "      <td>0.272</td>\n",
       "      <td>...</td>\n",
       "      <td>0.02073</td>\n",
       "      <td>0.04736</td>\n",
       "      <td>0.03882</td>\n",
       "      <td>18.447</td>\n",
       "      <td>0.671378</td>\n",
       "      <td>0.674562</td>\n",
       "      <td>-2.929379</td>\n",
       "      <td>0.396746</td>\n",
       "      <td>2.560422</td>\n",
       "      <td>0.367233</td>\n",
       "    </tr>\n",
       "    <tr>\n",
       "      <th>192</th>\n",
       "      <td>96.106</td>\n",
       "      <td>108.664</td>\n",
       "      <td>84.510</td>\n",
       "      <td>0.00694</td>\n",
       "      <td>0.000070</td>\n",
       "      <td>0.00389</td>\n",
       "      <td>0.00415</td>\n",
       "      <td>0.01168</td>\n",
       "      <td>0.04024</td>\n",
       "      <td>0.364</td>\n",
       "      <td>...</td>\n",
       "      <td>0.02876</td>\n",
       "      <td>0.06799</td>\n",
       "      <td>0.01823</td>\n",
       "      <td>19.055</td>\n",
       "      <td>0.544805</td>\n",
       "      <td>0.770466</td>\n",
       "      <td>-4.441519</td>\n",
       "      <td>0.155097</td>\n",
       "      <td>2.645959</td>\n",
       "      <td>0.327978</td>\n",
       "    </tr>\n",
       "    <tr>\n",
       "      <th>193</th>\n",
       "      <td>153.046</td>\n",
       "      <td>175.829</td>\n",
       "      <td>68.623</td>\n",
       "      <td>0.00742</td>\n",
       "      <td>0.000050</td>\n",
       "      <td>0.00364</td>\n",
       "      <td>0.00432</td>\n",
       "      <td>0.01092</td>\n",
       "      <td>0.05517</td>\n",
       "      <td>0.542</td>\n",
       "      <td>...</td>\n",
       "      <td>0.05767</td>\n",
       "      <td>0.07413</td>\n",
       "      <td>0.03160</td>\n",
       "      <td>17.280</td>\n",
       "      <td>0.665318</td>\n",
       "      <td>0.719467</td>\n",
       "      <td>-3.949079</td>\n",
       "      <td>0.357870</td>\n",
       "      <td>3.109010</td>\n",
       "      <td>0.377429</td>\n",
       "    </tr>\n",
       "    <tr>\n",
       "      <th>194</th>\n",
       "      <td>128.940</td>\n",
       "      <td>479.697</td>\n",
       "      <td>88.251</td>\n",
       "      <td>0.00581</td>\n",
       "      <td>0.000050</td>\n",
       "      <td>0.00241</td>\n",
       "      <td>0.00314</td>\n",
       "      <td>0.00723</td>\n",
       "      <td>0.02008</td>\n",
       "      <td>0.221</td>\n",
       "      <td>...</td>\n",
       "      <td>0.01734</td>\n",
       "      <td>0.02548</td>\n",
       "      <td>0.02350</td>\n",
       "      <td>24.743</td>\n",
       "      <td>0.487756</td>\n",
       "      <td>0.684130</td>\n",
       "      <td>-6.186128</td>\n",
       "      <td>0.279933</td>\n",
       "      <td>2.686240</td>\n",
       "      <td>0.152428</td>\n",
       "    </tr>\n",
       "  </tbody>\n",
       "</table>\n",
       "<p>195 rows × 22 columns</p>\n",
       "</div>"
      ],
      "text/plain": [
       "     MDVP:Fo(Hz)  MDVP:Fhi(Hz)  MDVP:Flo(Hz)  MDVP:Jitter(%)  \\\n",
       "0        167.930       193.221        79.068         0.00442   \n",
       "1        126.344       134.231       112.773         0.00448   \n",
       "2        115.380       123.109       108.634         0.00332   \n",
       "3        154.003       160.267       128.621         0.00183   \n",
       "4        202.266       211.604       197.079         0.00180   \n",
       "..           ...           ...           ...             ...   \n",
       "190      157.447       163.267       149.605         0.00369   \n",
       "191      102.273       142.830        85.902         0.00907   \n",
       "192       96.106       108.664        84.510         0.00694   \n",
       "193      153.046       175.829        68.623         0.00742   \n",
       "194      128.940       479.697        88.251         0.00581   \n",
       "\n",
       "     MDVP:Jitter(Abs)  MDVP:RAP  MDVP:PPQ  Jitter:DDP  MDVP:Shimmer  \\\n",
       "0            0.000030   0.00220   0.00247     0.00661       0.04351   \n",
       "1            0.000040   0.00131   0.00169     0.00393       0.02033   \n",
       "2            0.000030   0.00160   0.00199     0.00480       0.01503   \n",
       "3            0.000010   0.00076   0.00100     0.00229       0.01030   \n",
       "4            0.000009   0.00093   0.00107     0.00278       0.00954   \n",
       "..                ...       ...       ...         ...           ...   \n",
       "190          0.000020   0.00201   0.00197     0.00602       0.03272   \n",
       "191          0.000090   0.00493   0.00461     0.01480       0.02814   \n",
       "192          0.000070   0.00389   0.00415     0.01168       0.04024   \n",
       "193          0.000050   0.00364   0.00432     0.01092       0.05517   \n",
       "194          0.000050   0.00241   0.00314     0.00723       0.02008   \n",
       "\n",
       "     MDVP:Shimmer(dB)  ...  MDVP:APQ  Shimmer:DDA      NHR     HNR      RPDE  \\\n",
       "0               0.377  ...   0.04246      0.06685  0.01280  22.468  0.619060   \n",
       "1               0.185  ...   0.01614      0.03429  0.00474  25.030  0.507504   \n",
       "2               0.137  ...   0.01133      0.02436  0.00401  26.005  0.405991   \n",
       "3               0.094  ...   0.00871      0.01406  0.00243  28.409  0.263654   \n",
       "4               0.085  ...   0.00719      0.01407  0.00072  32.684  0.368535   \n",
       "..                ...  ...       ...          ...      ...     ...       ...   \n",
       "190             0.283  ...   0.02571      0.05439  0.01018  21.693  0.447285   \n",
       "191             0.272  ...   0.02073      0.04736  0.03882  18.447  0.671378   \n",
       "192             0.364  ...   0.02876      0.06799  0.01823  19.055  0.544805   \n",
       "193             0.542  ...   0.05767      0.07413  0.03160  17.280  0.665318   \n",
       "194             0.221  ...   0.01734      0.02548  0.02350  24.743  0.487756   \n",
       "\n",
       "          DFA   spread1   spread2        D2       PPE  \n",
       "0    0.679834 -4.330956  0.262384  2.916777  0.285695  \n",
       "1    0.760361 -6.689151  0.291954  2.431854  0.105993  \n",
       "2    0.761255 -5.966779  0.197938  1.974857  0.184067  \n",
       "3    0.691483 -7.111576  0.144780  2.065477  0.093193  \n",
       "4    0.742133 -7.695734  0.178540  1.544609  0.056141  \n",
       "..        ...       ...       ...       ...       ...  \n",
       "190  0.705658 -6.247076  0.180528  2.344348  0.164916  \n",
       "191  0.674562 -2.929379  0.396746  2.560422  0.367233  \n",
       "192  0.770466 -4.441519  0.155097  2.645959  0.327978  \n",
       "193  0.719467 -3.949079  0.357870  3.109010  0.377429  \n",
       "194  0.684130 -6.186128  0.279933  2.686240  0.152428  \n",
       "\n",
       "[195 rows x 22 columns]"
      ]
     },
     "execution_count": 5,
     "metadata": {},
     "output_type": "execute_result"
    }
   ],
   "source": [
    "X"
   ]
  },
  {
   "cell_type": "markdown",
   "id": "67e24840",
   "metadata": {},
   "source": [
    "- 孤立森林不用归一化\n",
    "- LOF 要做归一化"
   ]
  },
  {
   "cell_type": "code",
   "execution_count": 6,
   "id": "b4d78eb4",
   "metadata": {},
   "outputs": [],
   "source": [
    "ro_scaler = RobustScaler()\n",
    "X_scaled_robust = ro_scaler.fit_transform(X)"
   ]
  },
  {
   "cell_type": "markdown",
   "id": "200a3a5d",
   "metadata": {},
   "source": [
    "# 打分矩阵\n",
    "\n",
    "let's say we have 200 detectors"
   ]
  },
  {
   "cell_type": "code",
   "execution_count": 7,
   "id": "cf922cd1",
   "metadata": {},
   "outputs": [],
   "source": [
    "score_matrix = np.zeros([X.shape[0], 10])"
   ]
  },
  {
   "cell_type": "markdown",
   "id": "d75895fc",
   "metadata": {},
   "source": [
    "# 孤立森林"
   ]
  },
  {
   "cell_type": "code",
   "execution_count": 8,
   "id": "2d80d9ce",
   "metadata": {},
   "outputs": [],
   "source": [
    "isolate_clfs = []\n",
    "for i in range(5):\n",
    "    n_est = 100\n",
    "    clf = IsolationForest(n_estimators=n_est,contamination=0.5)\n",
    "    clf.fit(X)\n",
    "    output_score = abs(clf.score_samples(X))\n",
    "    score_matrix[:, i] = output_score\n",
    "    isolate_clfs.append(clf)"
   ]
  },
  {
   "cell_type": "markdown",
   "id": "2aeb8813",
   "metadata": {},
   "source": [
    "# LOF with scaled data"
   ]
  },
  {
   "cell_type": "code",
   "execution_count": 9,
   "id": "6d00058b",
   "metadata": {},
   "outputs": [],
   "source": [
    "lof_clfs = []\n",
    "for i in range(5):\n",
    "    n_nb = np.random.choice(range(5,20))\n",
    "    clf = LocalOutlierFactor(n_neighbors=n_nb)\n",
    "    clf.fit(X_scaled_robust)\n",
    "    score_ = abs(clf.negative_outlier_factor_)\n",
    "    score_matrix[:, i+5] = score_\n",
    "    lof_clfs.append(clf)"
   ]
  },
  {
   "cell_type": "code",
   "execution_count": 10,
   "id": "a9209bd9",
   "metadata": {},
   "outputs": [
    {
     "data": {
      "text/plain": [
       "array([[0.43799181, 0.42613304, 0.43163887, ..., 1.0278738 , 1.05123249,\n",
       "        1.04581356],\n",
       "       [0.40336464, 0.39718348, 0.41040454, ..., 1.01311337, 1.01138897,\n",
       "        1.00363289],\n",
       "       [0.38800924, 0.38786862, 0.38477854, ..., 0.9519595 , 0.9778155 ,\n",
       "        0.97162976],\n",
       "       ...,\n",
       "       [0.43030762, 0.4183279 , 0.44346492, ..., 0.99949928, 0.98164314,\n",
       "        0.98238443],\n",
       "       [0.4682963 , 0.48196982, 0.48466748, ..., 1.12453622, 1.10219217,\n",
       "        1.1221077 ],\n",
       "       [0.41914333, 0.43119986, 0.43030214, ..., 1.27532227, 1.34168111,\n",
       "        1.3689561 ]])"
      ]
     },
     "execution_count": 10,
     "metadata": {},
     "output_type": "execute_result"
    }
   ],
   "source": [
    "score_matrix"
   ]
  },
  {
   "cell_type": "code",
   "execution_count": 11,
   "id": "445f2ba3",
   "metadata": {},
   "outputs": [
    {
     "data": {
      "text/plain": [
       "(195, 10)"
      ]
     },
     "execution_count": 11,
     "metadata": {},
     "output_type": "execute_result"
    }
   ],
   "source": [
    "score_matrix.shape"
   ]
  },
  {
   "cell_type": "markdown",
   "id": "338b6e09",
   "metadata": {},
   "source": [
    "# disagreement matrix\n",
    "\n",
    "## 1. ranking disagreement"
   ]
  },
  {
   "cell_type": "code",
   "execution_count": 12,
   "id": "cdea04f6",
   "metadata": {},
   "outputs": [],
   "source": [
    "rank_matrix = np.zeros([len(X), 10])"
   ]
  },
  {
   "cell_type": "code",
   "execution_count": 13,
   "id": "77c67dee",
   "metadata": {},
   "outputs": [
    {
     "data": {
      "text/plain": [
       "array([[127., 103., 103., 124., 114.,  87.,  87.,  76.,  93.,  87.],\n",
       "       [ 48.,  32.,  61.,  48.,  50.,  33.,  33.,  63.,  49.,  39.],\n",
       "       [  8.,   6.,   5.,   2.,   7.,  25.,  25.,   2.,  11.,   4.],\n",
       "       [161., 163., 150., 150., 153.,  96.,  96., 122., 101., 102.],\n",
       "       [178., 175., 166., 172., 179., 125., 125., 146., 137., 137.]])"
      ]
     },
     "execution_count": 13,
     "metadata": {},
     "output_type": "execute_result"
    }
   ],
   "source": [
    "for i in range(10):\n",
    "    # rank by each column and get its rank_position\n",
    "    rank_matrix[:,i] = ss.rankdata(score_matrix[:,i])\n",
    "rank_matrix[:5]"
   ]
  },
  {
   "cell_type": "markdown",
   "id": "b692ad56",
   "metadata": {},
   "source": [
    "calculate standard deviation"
   ]
  },
  {
   "cell_type": "code",
   "execution_count": 14,
   "id": "f863f8fc",
   "metadata": {},
   "outputs": [],
   "source": [
    "std_record = np.zeros(len(X))\n",
    "for i in range(195):\n",
    "    std_record[i] = np.std(rank_matrix[i,:])"
   ]
  },
  {
   "cell_type": "code",
   "execution_count": 15,
   "id": "63a8c968",
   "metadata": {
    "scrolled": true
   },
   "outputs": [
    {
     "data": {
      "text/plain": [
       "array([16.28158469, 10.62261738,  8.16394512, 27.15952871, 21.05706532,\n",
       "       29.59408725, 44.93951491, 17.93014222, 19.01157542,  9.63587048,\n",
       "        9.4       , 47.16820963, 25.83195695, 22.70880886, 20.50097559,\n",
       "       48.31821603, 11.37585162, 10.05236291, 13.00038461, 16.31563667,\n",
       "       44.33914749, 19.21587885, 14.07977273,  5.02394267, 10.16070864,\n",
       "       39.5494627 ,  7.30821456, 11.85748709, 19.56425312,  7.90189851,\n",
       "       19.54098258, 11.98540779, 11.99208072,  3.84837628, 21.54738963,\n",
       "       14.81080687, 31.39442626, 52.47894816,  5.78013841,  0.78102497,\n",
       "        0.48989795, 32.08426406, 38.90514105, 19.47844963, 28.61118662,\n",
       "       14.48067678, 16.09347694, 25.30533541, 18.46862204, 49.03886214,\n",
       "       12.88759093, 13.43465668, 20.39338128,  8.21035931, 17.11256848,\n",
       "       28.40932945, 16.79553512, 37.61927697,  5.62138773, 37.06426851,\n",
       "       32.64368239, 29.98933144, 26.09137789, 45.43522862,  5.90254183,\n",
       "        9.0465463 , 27.48817928, 11.83596215, 35.15807162, 17.25717242,\n",
       "        8.35703297,  9.18912401, 42.57229146, 45.41629663, 35.89150317,\n",
       "       30.74670714, 46.19264011, 55.31039685, 27.41185875,  1.2       ,\n",
       "       18.16149774, 17.43702956, 43.5716651 ,  9.90403958, 16.72991333,\n",
       "       43.46320283, 33.0702283 , 17.30577938, 17.46539436, 23.58071246,\n",
       "       19.74234029, 10.11385189, 22.25061797, 22.85629016, 16.9221748 ,\n",
       "       45.63507423, 21.72924297,  0.78102497, 16.3343197 , 31.62925861,\n",
       "       18.8827964 , 15.35089574, 28.36353293, 19.36078511, 32.77819397,\n",
       "        3.87814389, 23.82624603, 12.64120247, 29.32302849, 29.43874997,\n",
       "       20.49121763, 19.06016789, 33.18734699, 35.69873947, 10.67707825,\n",
       "       22.95125269, 18.08562965, 40.2453724 , 44.40675624, 30.79350581,\n",
       "       24.84371148,  7.34574707,  6.10655386, 16.34655927, 15.74166446,\n",
       "       29.66563669, 33.66600659, 21.3532199 , 30.55225033, 27.4898163 ,\n",
       "        4.72122865, 29.93593159,  9.76165969,  2.2       ,  7.45989276,\n",
       "        8.53522115, 14.4374513 , 26.03247971, 47.64073887, 10.1414989 ,\n",
       "       24.41802613,  8.96437393, 11.84947256, 27.84762108, 17.2580416 ,\n",
       "       55.08547903, 19.61733927, 36.9687706 , 14.0271166 , 23.07292786,\n",
       "        7.29451849, 15.71750616, 27.42918154, 28.00428539,  6.37495098,\n",
       "       14.48309359, 37.40975809, 40.93274972, 11.3419575 , 32.73301086,\n",
       "        9.05317624, 24.9967998 , 16.32298992, 24.89658611, 21.15561391,\n",
       "       14.56021978, 16.56019324, 15.76863976, 21.80848459, 20.60606707,\n",
       "       16.22498074, 19.67841457, 15.17366139, 11.32651756, 53.32729132,\n",
       "       15.636176  , 14.69727866, 20.21905042, 30.16289111, 50.36874031,\n",
       "        6.10655386, 54.30801046,  4.38634244, 13.34765897, 58.40967386,\n",
       "       16.4635962 , 33.74625905, 16.59066002,  8.0628779 , 23.30858211,\n",
       "       52.1225479 ,  7.65506368, 39.83578793, 12.12476804, 33.73143934])"
      ]
     },
     "execution_count": 15,
     "metadata": {},
     "output_type": "execute_result"
    }
   ],
   "source": [
    "std_record"
   ]
  },
  {
   "cell_type": "markdown",
   "id": "93d8b25b",
   "metadata": {},
   "source": [
    "get top 5 and get the middle score"
   ]
  },
  {
   "cell_type": "code",
   "execution_count": 16,
   "id": "ae992122",
   "metadata": {},
   "outputs": [
    {
     "data": {
      "text/plain": [
       "array([174, 181, 145,  77, 184], dtype=int64)"
      ]
     },
     "execution_count": 16,
     "metadata": {},
     "output_type": "execute_result"
    }
   ],
   "source": [
    "std_max_rows = np.argsort(std_record)[-5:]\n",
    "std_max_rows"
   ]
  },
  {
   "cell_type": "code",
   "execution_count": 17,
   "id": "ff270393",
   "metadata": {
    "scrolled": true
   },
   "outputs": [
    {
     "name": "stdout",
     "output_type": "stream",
     "text": [
      "[[ 75.  27.  53.  51.  44. 156. 156. 163. 151. 144.]\n",
      " [ 52.   7.  13.  14.  35. 152. 152. 125. 104.  78.]\n",
      " [150. 158. 160. 159. 156.  59.  59.  10.  53.  73.]\n",
      " [188. 187. 187. 184. 186.  48.  48. 186. 185. 187.]\n",
      " [ 29.  63.  20.  37.  25. 176. 176. 137. 116. 100.]]\n",
      "\n",
      "[53.32729132 54.30801046 55.08547903 55.31039685 58.40967386]\n"
     ]
    }
   ],
   "source": [
    "print(rank_matrix[std_max_rows])\n",
    "print()\n",
    "print(std_record[std_max_rows])"
   ]
  },
  {
   "cell_type": "markdown",
   "id": "3c98904c",
   "metadata": {},
   "source": [
    "so, we get the score threshold:"
   ]
  },
  {
   "cell_type": "code",
   "execution_count": 18,
   "id": "a0f6bca0",
   "metadata": {},
   "outputs": [
    {
     "data": {
      "text/plain": [
       "array([0.39758803, 0.40721499, 0.3945805 , 0.40154023, 0.39376606,\n",
       "       1.22277357, 1.22277357, 1.13470223, 1.07944098, 1.05715626])"
      ]
     },
     "execution_count": 18,
     "metadata": {},
     "output_type": "execute_result"
    }
   ],
   "source": [
    "score_matrix[std_max_rows[-1]]"
   ]
  },
  {
   "cell_type": "markdown",
   "id": "bf3c5bf5",
   "metadata": {},
   "source": [
    "# comparison\n",
    "## 1. SD\n",
    "## 2. IQR\n",
    "## 3. MAD\n",
    "## 4. 2T\n",
    "## 5. clever standard deviation\n",
    "## 6. disagreement\n",
    "\n",
    "----"
   ]
  },
  {
   "cell_type": "markdown",
   "id": "c90dafe9",
   "metadata": {},
   "source": [
    "lof_clfs, isolate_clfs"
   ]
  },
  {
   "cell_type": "code",
   "execution_count": 19,
   "id": "cbba9e2d",
   "metadata": {},
   "outputs": [],
   "source": [
    "perform_records_base = {\"SD\":{}, \"IQR\":{}, \"MAD\":{}, \"2T\":{}, \"Disagreement\":{}}\n",
    "for i in [\"eucledian\", \"scaled_eucledian\",]+ [\"clf_\"+str(j+1) for j in range(10)]:\n",
    "    for key in perform_records_base.keys():\n",
    "        perform_records_base[key][i]=0\n",
    "acc_perform = perform_records_base.copy()\n",
    "f1_perform = perform_records_base.copy()"
   ]
  },
  {
   "cell_type": "markdown",
   "id": "2a016369",
   "metadata": {},
   "source": [
    "### 1. SD_model"
   ]
  },
  {
   "cell_type": "code",
   "execution_count": 20,
   "id": "fd26a770",
   "metadata": {},
   "outputs": [],
   "source": [
    "for i in range(score_matrix.shape[1]):\n",
    "    high_limit = np.mean(score_matrix[:, i]) + 3*np.std(score_matrix[:, i])\n",
    "    y_predict = score_matrix[:,i]>high_limit\n",
    "    y_predict = [1 if j else 0 for j in y_predict]\n",
    "    f1 = f1_score(y_ground_truth, y_predict)\n",
    "    acc = accuracy_score(y_ground_truth, y_predict)\n",
    "    f1_perform[\"SD\"][\"clf_\"+str(i+1)] = f1\n",
    "    acc_perform[\"SD\"][\"clf_\"+str(i+1)] = acc"
   ]
  },
  {
   "cell_type": "markdown",
   "id": "d350a75d",
   "metadata": {},
   "source": [
    "### IQR model\n"
   ]
  },
  {
   "cell_type": "code",
   "execution_count": 21,
   "id": "8a22a759",
   "metadata": {},
   "outputs": [],
   "source": [
    "for i in range(score_matrix.shape[1]):\n",
    "    iqr = np.percentile(score_matrix[:,i],75) - np.percentile(score_matrix[:,i],25)\n",
    "    y_predict = score_matrix[:,i]> np.percentile(score_matrix[:,i],75)+1.5*iqr\n",
    "    y_predict = [1 if j else 0 for j in y_predict]\n",
    "    f1 = f1_score(y_ground_truth, y_predict)\n",
    "    acc = accuracy_score(y_ground_truth, y_predict)\n",
    "    f1_perform[\"IQR\"][\"clf_\"+str(i+1)] = f1\n",
    "    acc_perform[\"IQR\"][\"clf_\"+str(i+1)] = acc\n",
    "    "
   ]
  },
  {
   "cell_type": "markdown",
   "id": "71d9b0b6",
   "metadata": {},
   "source": [
    "### MAD model"
   ]
  },
  {
   "cell_type": "code",
   "execution_count": 22,
   "id": "1a29f2cf",
   "metadata": {},
   "outputs": [],
   "source": [
    "for i in range(score_matrix.shape[1]):\n",
    "    median_ = np.median(score_matrix[:,i])\n",
    "    mad = 1.4826*np.median(np.abs(score_matrix[:,i]-median_))\n",
    "    y_predict = score_matrix[:,i]> 3*mad\n",
    "    y_predict = [1 if j else 0 for j in y_predict]\n",
    "    f1 = f1_score(y_ground_truth, y_predict)\n",
    "    acc = accuracy_score(y_ground_truth, y_predict)\n",
    "    f1_perform[\"MAD\"][\"clf_\"+str(i+1)] = f1\n",
    "    acc_perform[\"MAD\"][\"clf_\"+str(i+1)] = acc"
   ]
  },
  {
   "cell_type": "markdown",
   "id": "8b1b9375",
   "metadata": {},
   "source": [
    "### disagreement"
   ]
  },
  {
   "cell_type": "code",
   "execution_count": 27,
   "id": "cc097690",
   "metadata": {},
   "outputs": [],
   "source": [
    "for i in range(score_matrix.shape[1]):\n",
    "    y_predict = score_matrix[:,i] > score_matrix[std_max_rows[-1]][i]\n",
    "    y_predict = [1 if j else 0 for j in y_predict]\n",
    "    f1 = f1_score(y_ground_truth, y_predict)\n",
    "    acc = accuracy_score(y_ground_truth, y_predict)\n",
    "    f1_perform[\"Disagreement\"][\"clf_\"+str(i+1)] = f1\n",
    "    acc_perform[\"Disagreement\"][\"clf_\"+str(i+1)] = acc"
   ]
  },
  {
   "cell_type": "code",
   "execution_count": 28,
   "id": "da89901c",
   "metadata": {
    "scrolled": true
   },
   "outputs": [
    {
     "data": {
      "text/plain": [
       "{'SD': {'eucledian': 0,\n",
       "  'scaled_eucledian': 0,\n",
       "  'clf_1': 0.2717948717948718,\n",
       "  'clf_2': 0.26666666666666666,\n",
       "  'clf_3': 0.26666666666666666,\n",
       "  'clf_4': 0.26666666666666666,\n",
       "  'clf_5': 0.26666666666666666,\n",
       "  'clf_6': 0.2564102564102564,\n",
       "  'clf_7': 0.2564102564102564,\n",
       "  'clf_8': 0.2564102564102564,\n",
       "  'clf_9': 0.26153846153846155,\n",
       "  'clf_10': 0.26666666666666666},\n",
       " 'IQR': {'eucledian': 0,\n",
       "  'scaled_eucledian': 0,\n",
       "  'clf_1': 0.3076923076923077,\n",
       "  'clf_2': 0.31794871794871793,\n",
       "  'clf_3': 0.30256410256410254,\n",
       "  'clf_4': 0.29743589743589743,\n",
       "  'clf_5': 0.2923076923076923,\n",
       "  'clf_6': 0.28205128205128205,\n",
       "  'clf_7': 0.28205128205128205,\n",
       "  'clf_8': 0.28205128205128205,\n",
       "  'clf_9': 0.30256410256410254,\n",
       "  'clf_10': 0.3230769230769231},\n",
       " 'MAD': {'eucledian': 0,\n",
       "  'scaled_eucledian': 0,\n",
       "  'clf_1': 0.7538461538461538,\n",
       "  'clf_2': 0.7538461538461538,\n",
       "  'clf_3': 0.7538461538461538,\n",
       "  'clf_4': 0.7538461538461538,\n",
       "  'clf_5': 0.7538461538461538,\n",
       "  'clf_6': 0.7538461538461538,\n",
       "  'clf_7': 0.7538461538461538,\n",
       "  'clf_8': 0.7538461538461538,\n",
       "  'clf_9': 0.7538461538461538,\n",
       "  'clf_10': 0.7538461538461538},\n",
       " '2T': {'eucledian': 0,\n",
       "  'scaled_eucledian': 0,\n",
       "  'clf_1': 0.24615384615384617,\n",
       "  'clf_2': 0.24615384615384617,\n",
       "  'clf_3': 0.24615384615384617,\n",
       "  'clf_4': 0.24615384615384617,\n",
       "  'clf_5': 0.24615384615384617,\n",
       "  'clf_6': 0.26153846153846155,\n",
       "  'clf_7': 0.26153846153846155,\n",
       "  'clf_8': 0.2564102564102564,\n",
       "  'clf_9': 0.28205128205128205,\n",
       "  'clf_10': 0.2717948717948718},\n",
       " 'Disagreement': {'eucledian': 0,\n",
       "  'scaled_eucledian': 0,\n",
       "  'clf_1': 0.6666666666666666,\n",
       "  'clf_2': 0.5743589743589743,\n",
       "  'clf_3': 0.6923076923076923,\n",
       "  'clf_4': 0.6666666666666666,\n",
       "  'clf_5': 0.676923076923077,\n",
       "  'clf_6': 0.3128205128205128,\n",
       "  'clf_7': 0.3128205128205128,\n",
       "  'clf_8': 0.4717948717948718,\n",
       "  'clf_9': 0.49743589743589745,\n",
       "  'clf_10': 0.5076923076923077}}"
      ]
     },
     "execution_count": 28,
     "metadata": {},
     "output_type": "execute_result"
    }
   ],
   "source": [
    "f1_perform"
   ]
  },
  {
   "cell_type": "markdown",
   "id": "4d0e9950",
   "metadata": {},
   "source": [
    "## 2T-SD"
   ]
  },
  {
   "cell_type": "code",
   "execution_count": 25,
   "id": "b1ce7c10",
   "metadata": {},
   "outputs": [],
   "source": [
    "for i in range(score_matrix.shape[1]):\n",
    "    high_limit = np.mean(score_matrix[:, i]) + 3*np.std(score_matrix[:, i])\n",
    "    std2 = np.std(score_matrix[:,i]<=high_limit)\n",
    "    high_limit2 = np.mean(score_matrix[score_matrix[:,i]<=high_limit, i]) + 3*std2\n",
    "    y_predict = score_matrix[:,i]> high_limit2\n",
    "    y_predict = [1 if j else 0 for j in y_predict]\n",
    "    f1 = f1_score(y_ground_truth, y_predict)\n",
    "    acc = accuracy_score(y_ground_truth, y_predict)\n",
    "    f1_perform[\"2T\"][\"clf_\"+str(i+1)] = f1\n",
    "    acc_perform[\"2T\"][\"clf_\"+str(i+1)] = acc"
   ]
  },
  {
   "cell_type": "code",
   "execution_count": 26,
   "id": "e23dac48",
   "metadata": {
    "scrolled": true
   },
   "outputs": [
    {
     "data": {
      "text/plain": [
       "{'SD': {'eucledian': 0,\n",
       "  'scaled_eucledian': 0,\n",
       "  'clf_1': 0.2717948717948718,\n",
       "  'clf_2': 0.26666666666666666,\n",
       "  'clf_3': 0.26666666666666666,\n",
       "  'clf_4': 0.26666666666666666,\n",
       "  'clf_5': 0.26666666666666666,\n",
       "  'clf_6': 0.2564102564102564,\n",
       "  'clf_7': 0.2564102564102564,\n",
       "  'clf_8': 0.2564102564102564,\n",
       "  'clf_9': 0.26153846153846155,\n",
       "  'clf_10': 0.26666666666666666},\n",
       " 'IQR': {'eucledian': 0,\n",
       "  'scaled_eucledian': 0,\n",
       "  'clf_1': 0.3076923076923077,\n",
       "  'clf_2': 0.31794871794871793,\n",
       "  'clf_3': 0.30256410256410254,\n",
       "  'clf_4': 0.29743589743589743,\n",
       "  'clf_5': 0.2923076923076923,\n",
       "  'clf_6': 0.28205128205128205,\n",
       "  'clf_7': 0.28205128205128205,\n",
       "  'clf_8': 0.28205128205128205,\n",
       "  'clf_9': 0.30256410256410254,\n",
       "  'clf_10': 0.3230769230769231},\n",
       " 'MAD': {'eucledian': 0,\n",
       "  'scaled_eucledian': 0,\n",
       "  'clf_1': 0.7538461538461538,\n",
       "  'clf_2': 0.7538461538461538,\n",
       "  'clf_3': 0.7538461538461538,\n",
       "  'clf_4': 0.7538461538461538,\n",
       "  'clf_5': 0.7538461538461538,\n",
       "  'clf_6': 0.7538461538461538,\n",
       "  'clf_7': 0.7538461538461538,\n",
       "  'clf_8': 0.7538461538461538,\n",
       "  'clf_9': 0.7538461538461538,\n",
       "  'clf_10': 0.7538461538461538},\n",
       " '2T': {'eucledian': 0,\n",
       "  'scaled_eucledian': 0,\n",
       "  'clf_1': 0.24615384615384617,\n",
       "  'clf_2': 0.24615384615384617,\n",
       "  'clf_3': 0.24615384615384617,\n",
       "  'clf_4': 0.24615384615384617,\n",
       "  'clf_5': 0.24615384615384617,\n",
       "  'clf_6': 0.26153846153846155,\n",
       "  'clf_7': 0.26153846153846155,\n",
       "  'clf_8': 0.2564102564102564,\n",
       "  'clf_9': 0.28205128205128205,\n",
       "  'clf_10': 0.2717948717948718},\n",
       " 'Disagreement': {'eucledian': 0,\n",
       "  'scaled_eucledian': 0,\n",
       "  'clf_1': 0.28205128205128205,\n",
       "  'clf_2': 0.28717948717948716,\n",
       "  'clf_3': 0.28717948717948716,\n",
       "  'clf_4': 0.30256410256410254,\n",
       "  'clf_5': 0.2923076923076923,\n",
       "  'clf_6': 0.6717948717948717,\n",
       "  'clf_7': 0.6717948717948717,\n",
       "  'clf_8': 0.2717948717948718,\n",
       "  'clf_9': 0.27692307692307694,\n",
       "  'clf_10': 0.26666666666666666}}"
      ]
     },
     "execution_count": 26,
     "metadata": {},
     "output_type": "execute_result"
    }
   ],
   "source": [
    "f1_perform"
   ]
  },
  {
   "cell_type": "code",
   "execution_count": null,
   "id": "8b028486",
   "metadata": {},
   "outputs": [],
   "source": []
  }
 ],
 "metadata": {
  "kernelspec": {
   "display_name": "Python 3",
   "language": "python",
   "name": "python3"
  },
  "language_info": {
   "codemirror_mode": {
    "name": "ipython",
    "version": 3
   },
   "file_extension": ".py",
   "mimetype": "text/x-python",
   "name": "python",
   "nbconvert_exporter": "python",
   "pygments_lexer": "ipython3",
   "version": "3.8.10"
  }
 },
 "nbformat": 4,
 "nbformat_minor": 5
}
